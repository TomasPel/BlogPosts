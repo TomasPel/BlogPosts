{
 "cells": [
  {
   "cell_type": "code",
   "execution_count": 11,
   "outputs": [
    {
     "name": "stdout",
     "text": [
      "[Row(key=148, avg(value)=413.5625), Row(key=463, avg(value)=450.0625), Row(key=471, avg(value)=464.484375), Row(key=496, avg(value)=425.34375), Row(key=833, avg(value)=439.0625)]\n",
      "[Row(key=148, avg(value)=413.5625), Row(key=463, avg(value)=450.0625), Row(key=471, avg(value)=464.484375), Row(key=496, avg(value)=425.34375), Row(key=833, avg(value)=439.0625)]\n",
      "[Row(key=148, avg(value)=413.5625), Row(key=463, avg(value)=450.0625), Row(key=471, avg(value)=464.484375), Row(key=496, avg(value)=425.34375), Row(key=833, avg(value)=439.0625)]\n",
      "[Row(key=148, avg(value)=413.5625), Row(key=463, avg(value)=450.0625), Row(key=471, avg(value)=464.484375), Row(key=496, avg(value)=425.34375), Row(key=833, avg(value)=439.0625)]\n",
      "[Row(key=148, avg(value)=413.5625), Row(key=463, avg(value)=450.0625), Row(key=471, avg(value)=464.484375), Row(key=496, avg(value)=425.34375), Row(key=833, avg(value)=439.0625)]\n",
      "[Row(key=148, avg(value)=413.5625), Row(key=463, avg(value)=450.0625), Row(key=471, avg(value)=464.484375), Row(key=496, avg(value)=425.34375), Row(key=833, avg(value)=439.0625)]\n",
      "[Row(key=148, avg(value)=413.5625), Row(key=463, avg(value)=450.0625), Row(key=471, avg(value)=464.484375), Row(key=496, avg(value)=425.34375), Row(key=833, avg(value)=439.0625)]\n",
      "[Row(key=148, avg(value)=413.5625), Row(key=463, avg(value)=450.0625), Row(key=471, avg(value)=464.484375), Row(key=496, avg(value)=425.34375), Row(key=833, avg(value)=439.0625)]\n1min 51s ± 1.38 s per loop (mean ± std. dev. of 7 runs, 1 loop each)\n"
     ],
     "output_type": "stream"
    }
   ],
   "source": [
    "from pyspark.sql import SparkSession\n",
    "from datetime import datetime\n",
    "from pyspark.sql.types import *\n",
    "import pandas as pd\n",
    "import pyspark.sql.functions as f \n",
    "\n",
    "def spark_run(file_name):\n",
    "    SCHEMA = StructType([StructField('key', IntegerType(), False),\n",
    "                         StructField('value', IntegerType(), False),])\n",
    "    spark = SparkSession.builder \\\n",
    "        .appName(\"Spark Benchmarking\") \\\n",
    "        .getOrCreate()\n",
    "    file_vals = spark\\\n",
    "        .read\\\n",
    "        .load(file_name, format=\"csv\", header='true', schema=SCHEMA)\\\n",
    "        .groupby(\"key\")\\\n",
    "        .agg(f.mean(f.col(\"value\")))\n",
    "   \n",
    "    print(file_vals.head(5))\n",
    "\n",
    "    del spark\n",
    "    del file_vals\n",
    "    \n",
    "%timeit spark_run('./data/sample_file_9.csv')"
   ],
   "metadata": {
    "collapsed": false,
    "pycharm": {
     "name": "#%%\n",
     "is_executing": false
    }
   }
  },
  {
   "cell_type": "code",
   "execution_count": 2,
   "outputs": [
    {
     "name": "stdout",
     "text": [
      "./data/sample_file_1.csv\n",
      "0    662.0\n1    785.5\n2    417.5\n3    534.5\n4    381.0\nName: value, dtype: float64\n",
      "0    662.0\n1    785.5\n2    417.5\n3    534.5\n4    381.0\nName: value, dtype: float64\n",
      "0    662.0\n1    785.5\n2    417.5\n3    534.5\n4    381.0\nName: value, dtype: float64\n",
      "0    662.0\n1    785.5\n2    417.5\n3    534.5\n4    381.0\nName: value, dtype: float64\n",
      "0    662.0\n1    785.5\n2    417.5\n3    534.5\n4    381.0\nName: value, dtype: float64\n",
      "0    662.0\n1    785.5\n2    417.5\n3    534.5\n4    381.0\nName: value, dtype: float64\n",
      "0    662.0\n1    785.5\n2    417.5\n3    534.5\n4    381.0\nName: value, dtype: float64\n",
      "0    662.0\n1    785.5\n2    417.5\n3    534.5\n4    381.0\nName: value, dtype: float64\n402 ms ± 11.2 ms per loop (mean ± std. dev. of 7 runs, 1 loop each)\n./data/sample_file_2.csv\n",
      "0    359.75\n1    639.50\n2    342.50\n3    545.75\n4    525.25\nName: value, dtype: float64\n",
      "0    359.75\n1    639.50\n2    342.50\n3    545.75\n4    525.25\nName: value, dtype: float64\n",
      "0    359.75\n1    639.50\n2    342.50\n3    545.75\n4    525.25\nName: value, dtype: float64\n",
      "0    359.75\n1    639.50\n2    342.50\n3    545.75\n4    525.25\nName: value, dtype: float64\n",
      "0    359.75\n1    639.50\n2    342.50\n3    545.75\n4    525.25\nName: value, dtype: float64\n",
      "0    359.75\n1    639.50\n2    342.50\n3    545.75\n4    525.25\nName: value, dtype: float64\n",
      "0    359.75\n1    639.50\n2    342.50\n3    545.75\n4    525.25\nName: value, dtype: float64\n",
      "0    359.75\n1    639.50\n2    342.50\n3    545.75\n4    525.25\nName: value, dtype: float64\n615 ms ± 22.8 ms per loop (mean ± std. dev. of 7 runs, 1 loop each)\n./data/sample_file_3.csv\n",
      "0    361.000\n1    342.625\n2    441.125\n3    458.625\n4    428.875\nName: value, dtype: float64\n",
      "0    361.000\n1    342.625\n2    441.125\n3    458.625\n4    428.875\nName: value, dtype: float64\n",
      "0    361.000\n1    342.625\n2    441.125\n3    458.625\n4    428.875\nName: value, dtype: float64\n",
      "0    361.000\n1    342.625\n2    441.125\n3    458.625\n4    428.875\nName: value, dtype: float64\n",
      "0    361.000\n1    342.625\n2    441.125\n3    458.625\n4    428.875\nName: value, dtype: float64\n",
      "0    361.000\n1    342.625\n2    441.125\n3    458.625\n4    428.875\nName: value, dtype: float64\n",
      "0    361.000\n1    342.625\n2    441.125\n3    458.625\n4    428.875\nName: value, dtype: float64\n",
      "0    361.000\n1    342.625\n2    441.125\n3    458.625\n4    428.875\nName: value, dtype: float64\n1.22 s ± 31.4 ms per loop (mean ± std. dev. of 7 runs, 1 loop each)\n./data/sample_file_7.csv\n",
      "0    467.328125\n1    483.484375\n2    482.437500\n3    435.484375\n4    457.203125\nName: value, dtype: float64\n",
      "0    467.328125\n1    483.484375\n2    482.437500\n3    435.484375\n4    457.203125\nName: value, dtype: float64\n",
      "0    467.328125\n1    483.484375\n2    482.437500\n3    435.484375\n4    457.203125\nName: value, dtype: float64\n",
      "0    467.328125\n1    483.484375\n2    482.437500\n3    435.484375\n4    457.203125\nName: value, dtype: float64\n",
      "0    467.328125\n1    483.484375\n2    482.437500\n3    435.484375\n4    457.203125\nName: value, dtype: float64\n",
      "0    467.328125\n1    483.484375\n2    482.437500\n3    435.484375\n4    457.203125\nName: value, dtype: float64\n",
      "0    467.328125\n1    483.484375\n2    482.437500\n3    435.484375\n4    457.203125\nName: value, dtype: float64\n",
      "0    467.328125\n1    483.484375\n2    482.437500\n3    435.484375\n4    457.203125\nName: value, dtype: float64\n16.5 s ± 298 ms per loop (mean ± std. dev. of 7 runs, 1 loop each)\n./data/sample_file_6.csv\n",
      "0    467.328125\n1    483.484375\n2    482.437500\n3    435.484375\n4    457.203125\nName: value, dtype: float64\n",
      "0    467.328125\n1    483.484375\n2    482.437500\n3    435.484375\n4    457.203125\nName: value, dtype: float64\n",
      "0    467.328125\n1    483.484375\n2    482.437500\n3    435.484375\n4    457.203125\nName: value, dtype: float64\n",
      "0    467.328125\n1    483.484375\n2    482.437500\n3    435.484375\n4    457.203125\nName: value, dtype: float64\n",
      "0    467.328125\n1    483.484375\n2    482.437500\n3    435.484375\n4    457.203125\nName: value, dtype: float64\n",
      "0    467.328125\n1    483.484375\n2    482.437500\n3    435.484375\n4    457.203125\nName: value, dtype: float64\n",
      "0    467.328125\n1    483.484375\n2    482.437500\n3    435.484375\n4    457.203125\nName: value, dtype: float64\n",
      "0    467.328125\n1    483.484375\n2    482.437500\n3    435.484375\n4    457.203125\nName: value, dtype: float64\n8.15 s ± 207 ms per loop (mean ± std. dev. of 7 runs, 1 loop each)\n./data/sample_file_4.csv\n",
      "0    492.3125\n1    503.6875\n2    326.7500\n3    448.5000\n4    532.1250\nName: value, dtype: float64\n",
      "0    492.3125\n1    503.6875\n2    326.7500\n3    448.5000\n4    532.1250\nName: value, dtype: float64\n",
      "0    492.3125\n1    503.6875\n2    326.7500\n3    448.5000\n4    532.1250\nName: value, dtype: float64\n",
      "0    492.3125\n1    503.6875\n2    326.7500\n3    448.5000\n4    532.1250\nName: value, dtype: float64\n",
      "0    492.3125\n1    503.6875\n2    326.7500\n3    448.5000\n4    532.1250\nName: value, dtype: float64\n",
      "0    492.3125\n1    503.6875\n2    326.7500\n3    448.5000\n4    532.1250\nName: value, dtype: float64\n",
      "0    492.3125\n1    503.6875\n2    326.7500\n3    448.5000\n4    532.1250\nName: value, dtype: float64\n",
      "0    492.3125\n1    503.6875\n2    326.7500\n3    448.5000\n4    532.1250\nName: value, dtype: float64\n1.97 s ± 31 ms per loop (mean ± std. dev. of 7 runs, 1 loop each)\n./data/sample_file_5.csv\n",
      "0    422.59375\n1    408.18750\n2    492.71875\n3    443.12500\n4    491.46875\nName: value, dtype: float64\n",
      "0    422.59375\n1    408.18750\n2    492.71875\n3    443.12500\n4    491.46875\nName: value, dtype: float64\n",
      "0    422.59375\n1    408.18750\n2    492.71875\n3    443.12500\n4    491.46875\nName: value, dtype: float64\n",
      "0    422.59375\n1    408.18750\n2    492.71875\n3    443.12500\n4    491.46875\nName: value, dtype: float64\n",
      "0    422.59375\n1    408.18750\n2    492.71875\n3    443.12500\n4    491.46875\nName: value, dtype: float64\n",
      "0    422.59375\n1    408.18750\n2    492.71875\n3    443.12500\n4    491.46875\nName: value, dtype: float64\n",
      "0    422.59375\n1    408.18750\n2    492.71875\n3    443.12500\n4    491.46875\nName: value, dtype: float64\n",
      "0    422.59375\n1    408.18750\n2    492.71875\n3    443.12500\n4    491.46875\nName: value, dtype: float64\n4.3 s ± 129 ms per loop (mean ± std. dev. of 7 runs, 1 loop each)\n./data/sample_file_8.csv\n",
      "0    467.328125\n1    483.484375\n2    482.437500\n3    435.484375\n4    457.203125\nName: value, dtype: float64\n",
      "0    467.328125\n1    483.484375\n2    482.437500\n3    435.484375\n4    457.203125\nName: value, dtype: float64\n",
      "0    467.328125\n1    483.484375\n2    482.437500\n3    435.484375\n4    457.203125\nName: value, dtype: float64\n",
      "0    467.328125\n1    483.484375\n2    482.437500\n3    435.484375\n4    457.203125\nName: value, dtype: float64\n",
      "0    467.328125\n1    483.484375\n2    482.437500\n3    435.484375\n4    457.203125\nName: value, dtype: float64\n",
      "0    467.328125\n1    483.484375\n2    482.437500\n3    435.484375\n4    457.203125\nName: value, dtype: float64\n",
      "0    467.328125\n1    483.484375\n2    482.437500\n3    435.484375\n4    457.203125\nName: value, dtype: float64\n",
      "0    467.328125\n1    483.484375\n2    482.437500\n3    435.484375\n4    457.203125\nName: value, dtype: float64\n33.9 s ± 522 ms per loop (mean ± std. dev. of 7 runs, 1 loop each)\n./data/sample_file_9.csv\n",
      "0    467.328125\n1    483.484375\n2    482.437500\n3    435.484375\n4    457.203125\nName: value, dtype: float64\n",
      "0    467.328125\n1    483.484375\n2    482.437500\n3    435.484375\n4    457.203125\nName: value, dtype: float64\n",
      "0    467.328125\n1    483.484375\n2    482.437500\n3    435.484375\n4    457.203125\nName: value, dtype: float64\n",
      "0    467.328125\n1    483.484375\n2    482.437500\n3    435.484375\n4    457.203125\nName: value, dtype: float64\n",
      "0    467.328125\n1    483.484375\n2    482.437500\n3    435.484375\n4    457.203125\nName: value, dtype: float64\n",
      "0    467.328125\n1    483.484375\n2    482.437500\n3    435.484375\n4    457.203125\nName: value, dtype: float64\n",
      "0    467.328125\n1    483.484375\n2    482.437500\n3    435.484375\n4    457.203125\nName: value, dtype: float64\n",
      "0    467.328125\n1    483.484375\n2    482.437500\n3    435.484375\n4    457.203125\nName: value, dtype: float64\n1min 40s ± 5.13 s per loop (mean ± std. dev. of 7 runs, 1 loop each)\n"
     ],
     "output_type": "stream"
    }
   ],
   "source": [
    "import pandas as pd\n",
    "import glob\n",
    "def pandas_run(file_name):\n",
    "    file_vals = pd.read_csv(file_name, sep=\",\", header=0)\n",
    "    file_vals = file_vals.groupby(\"key\")[\"value\"].transform('mean')\n",
    "    print(file_vals.head(5))\n",
    "    del file_vals\n",
    "  \n",
    "for filename in glob.glob('./data/*.csv'):\n",
    "    print(filename)\n",
    "    %timeit pandas_run(filename)"
   ],
   "metadata": {
    "collapsed": false,
    "pycharm": {
     "name": "#%%\n",
     "is_executing": false
    }
   }
  },
  {
   "cell_type": "code",
   "execution_count": 1,
   "outputs": [
    {
     "name": "stdout",
     "text": [
      "./data/sample_file_1.csv\n",
      "     value\nkey       \n0    662.0\n1    785.5\n2    417.5\n3    534.5\n4    381.0\n",
      "     value\nkey       \n0    662.0\n1    785.5\n2    417.5\n3    534.5\n4    381.0\n",
      "     value\nkey       \n0    662.0\n1    785.5\n2    417.5\n3    534.5\n4    381.0\n",
      "     value\nkey       \n0    662.0\n1    785.5\n2    417.5\n3    534.5\n4    381.0\n",
      "     value\nkey       \n0    662.0\n1    785.5\n2    417.5\n3    534.5\n4    381.0\n",
      "     value\nkey       \n0    662.0\n1    785.5\n2    417.5\n3    534.5\n4    381.0\n",
      "     value\nkey       \n0    662.0\n1    785.5\n2    417.5\n3    534.5\n4    381.0\n",
      "     value\nkey       \n0    662.0\n1    785.5\n2    417.5\n3    534.5\n4    381.0\n1.88 s ± 182 ms per loop (mean ± std. dev. of 7 runs, 1 loop each)\n./data/sample_file_2.csv\n",
      "      value\nkey        \n0    359.75\n1    639.50\n2    342.50\n3    545.75\n4    525.25\n",
      "      value\nkey        \n0    359.75\n1    639.50\n2    342.50\n3    545.75\n4    525.25\n",
      "      value\nkey        \n0    359.75\n1    639.50\n2    342.50\n3    545.75\n4    525.25\n",
      "      value\nkey        \n0    359.75\n1    639.50\n2    342.50\n3    545.75\n4    525.25\n",
      "      value\nkey        \n0    359.75\n1    639.50\n2    342.50\n3    545.75\n4    525.25\n",
      "      value\nkey        \n0    359.75\n1    639.50\n2    342.50\n3    545.75\n4    525.25\n",
      "      value\nkey        \n0    359.75\n1    639.50\n2    342.50\n3    545.75\n4    525.25\n",
      "      value\nkey        \n0    359.75\n1    639.50\n2    342.50\n3    545.75\n4    525.25\n2.69 s ± 101 ms per loop (mean ± std. dev. of 7 runs, 1 loop each)\n./data/sample_file_3.csv\n",
      "       value\nkey         \n0    361.000\n1    342.625\n2    441.125\n3    458.625\n4    428.875\n",
      "       value\nkey         \n0    361.000\n1    342.625\n2    441.125\n3    458.625\n4    428.875\n",
      "       value\nkey         \n0    361.000\n1    342.625\n2    441.125\n3    458.625\n4    428.875\n",
      "       value\nkey         \n0    361.000\n1    342.625\n2    441.125\n3    458.625\n4    428.875\n",
      "       value\nkey         \n0    361.000\n1    342.625\n2    441.125\n3    458.625\n4    428.875\n",
      "       value\nkey         \n0    361.000\n1    342.625\n2    441.125\n3    458.625\n4    428.875\n",
      "       value\nkey         \n0    361.000\n1    342.625\n2    441.125\n3    458.625\n4    428.875\n",
      "       value\nkey         \n0    361.000\n1    342.625\n2    441.125\n3    458.625\n4    428.875\n4.88 s ± 132 ms per loop (mean ± std. dev. of 7 runs, 1 loop each)\n./data/sample_file_7.csv\n",
      "          value\nkey            \n0    467.328125\n1    483.484375\n2    482.437500\n3    435.484375\n4    457.203125\n",
      "          value\nkey            \n0    467.328125\n1    483.484375\n2    482.437500\n3    435.484375\n4    457.203125\n",
      "          value\nkey            \n0    467.328125\n1    483.484375\n2    482.437500\n3    435.484375\n4    457.203125\n",
      "          value\nkey            \n0    467.328125\n1    483.484375\n2    482.437500\n3    435.484375\n4    457.203125\n",
      "          value\nkey            \n0    467.328125\n1    483.484375\n2    482.437500\n3    435.484375\n4    457.203125\n",
      "          value\nkey            \n0    467.328125\n1    483.484375\n2    482.437500\n3    435.484375\n4    457.203125\n",
      "          value\nkey            \n0    467.328125\n1    483.484375\n2    482.437500\n3    435.484375\n4    457.203125\n",
      "          value\nkey            \n0    467.328125\n1    483.484375\n2    482.437500\n3    435.484375\n4    457.203125\n1min 3s ± 7.19 s per loop (mean ± std. dev. of 7 runs, 1 loop each)\n./data/sample_file_6.csv\n",
      "          value\nkey            \n0    467.328125\n1    483.484375\n2    482.437500\n3    435.484375\n4    457.203125\n",
      "          value\nkey            \n0    467.328125\n1    483.484375\n2    482.437500\n3    435.484375\n4    457.203125\n",
      "          value\nkey            \n0    467.328125\n1    483.484375\n2    482.437500\n3    435.484375\n4    457.203125\n",
      "          value\nkey            \n0    467.328125\n1    483.484375\n2    482.437500\n3    435.484375\n4    457.203125\n",
      "          value\nkey            \n0    467.328125\n1    483.484375\n2    482.437500\n3    435.484375\n4    457.203125\n",
      "          value\nkey            \n0    467.328125\n1    483.484375\n2    482.437500\n3    435.484375\n4    457.203125\n",
      "          value\nkey            \n0    467.328125\n1    483.484375\n2    482.437500\n3    435.484375\n4    457.203125\n",
      "          value\nkey            \n0    467.328125\n1    483.484375\n2    482.437500\n3    435.484375\n4    457.203125\n29.3 s ± 1.33 s per loop (mean ± std. dev. of 7 runs, 1 loop each)\n./data/sample_file_4.csv\n",
      "        value\nkey          \n0    492.3125\n1    503.6875\n2    326.7500\n3    448.5000\n4    532.1250\n",
      "        value\nkey          \n0    492.3125\n1    503.6875\n2    326.7500\n3    448.5000\n4    532.1250\n",
      "        value\nkey          \n0    492.3125\n1    503.6875\n2    326.7500\n3    448.5000\n4    532.1250\n",
      "        value\nkey          \n0    492.3125\n1    503.6875\n2    326.7500\n3    448.5000\n4    532.1250\n",
      "        value\nkey          \n0    492.3125\n1    503.6875\n2    326.7500\n3    448.5000\n4    532.1250\n",
      "        value\nkey          \n0    492.3125\n1    503.6875\n2    326.7500\n3    448.5000\n4    532.1250\n",
      "        value\nkey          \n0    492.3125\n1    503.6875\n2    326.7500\n3    448.5000\n4    532.1250\n",
      "        value\nkey          \n0    492.3125\n1    503.6875\n2    326.7500\n3    448.5000\n4    532.1250\n9.86 s ± 561 ms per loop (mean ± std. dev. of 7 runs, 1 loop each)\n./data/sample_file_5.csv\n",
      "         value\nkey           \n0    422.59375\n1    408.18750\n2    492.71875\n3    443.12500\n4    491.46875\n",
      "         value\nkey           \n0    422.59375\n1    408.18750\n2    492.71875\n3    443.12500\n4    491.46875\n",
      "         value\nkey           \n0    422.59375\n1    408.18750\n2    492.71875\n3    443.12500\n4    491.46875\n",
      "         value\nkey           \n0    422.59375\n1    408.18750\n2    492.71875\n3    443.12500\n4    491.46875\n",
      "         value\nkey           \n0    422.59375\n1    408.18750\n2    492.71875\n3    443.12500\n4    491.46875\n",
      "         value\nkey           \n0    422.59375\n1    408.18750\n2    492.71875\n3    443.12500\n4    491.46875\n",
      "         value\nkey           \n0    422.59375\n1    408.18750\n2    492.71875\n3    443.12500\n4    491.46875\n",
      "         value\nkey           \n0    422.59375\n1    408.18750\n2    492.71875\n3    443.12500\n4    491.46875\n16.2 s ± 1.08 s per loop (mean ± std. dev. of 7 runs, 1 loop each)\n./data/sample_file_8.csv\n",
      "          value\nkey            \n0    467.328125\n1    483.484375\n2    482.437500\n3    435.484375\n4    457.203125\n",
      "          value\nkey            \n0    467.328125\n1    483.484375\n2    482.437500\n3    435.484375\n4    457.203125\n",
      "          value\nkey            \n0    467.328125\n1    483.484375\n2    482.437500\n3    435.484375\n4    457.203125\n",
      "          value\nkey            \n0    467.328125\n1    483.484375\n2    482.437500\n3    435.484375\n4    457.203125\n",
      "          value\nkey            \n0    467.328125\n1    483.484375\n2    482.437500\n3    435.484375\n4    457.203125\n",
      "          value\nkey            \n0    467.328125\n1    483.484375\n2    482.437500\n3    435.484375\n4    457.203125\n",
      "          value\nkey            \n0    467.328125\n1    483.484375\n2    482.437500\n3    435.484375\n4    457.203125\n",
      "          value\nkey            \n0    467.328125\n1    483.484375\n2    482.437500\n3    435.484375\n4    457.203125\n1min 58s ± 4.31 s per loop (mean ± std. dev. of 7 runs, 1 loop each)\n./data/sample_file_9.csv\n",
      "          value\nkey            \n0    467.328125\n1    483.484375\n2    482.437500\n3    435.484375\n4    457.203125\n",
      "          value\nkey            \n0    467.328125\n1    483.484375\n2    482.437500\n3    435.484375\n4    457.203125\n",
      "          value\nkey            \n0    467.328125\n1    483.484375\n2    482.437500\n3    435.484375\n4    457.203125\n",
      "          value\nkey            \n0    467.328125\n1    483.484375\n2    482.437500\n3    435.484375\n4    457.203125\n",
      "          value\nkey            \n0    467.328125\n1    483.484375\n2    482.437500\n3    435.484375\n4    457.203125\n",
      "          value\nkey            \n0    467.328125\n1    483.484375\n2    482.437500\n3    435.484375\n4    457.203125\n",
      "          value\nkey            \n0    467.328125\n1    483.484375\n2    482.437500\n3    435.484375\n4    457.203125\n",
      "          value\nkey            \n0    467.328125\n1    483.484375\n2    482.437500\n3    435.484375\n4    457.203125\n3min 36s ± 10.7 s per loop (mean ± std. dev. of 7 runs, 1 loop each)\n"
     ],
     "output_type": "stream"
    }
   ],
   "source": [
    "from pyspark.sql import SparkSession\n",
    "SparkSession.builder \\\n",
    "        .appName(\"Spark Benchmarking\") \\\n",
    "        .master('local[16]')\\\n",
    "        .config(\"spark.driver.memory\", '10g')\\\n",
    "        .getOrCreate()\n",
    "\n",
    "import databricks.koalas as ks\n",
    "import glob\n",
    "def koalas_run(file_name):\n",
    "    file_vals = ks.read_csv(file_name, sep=\",\", header=0)\n",
    "    file_vals = file_vals.groupby(\"key\").mean()\n",
    "    print(file_vals.head(5))\n",
    "    del file_vals\n",
    "  \n",
    "for filename in glob.glob('./data/*.csv'):\n",
    "    print(filename)\n",
    "    %timeit koalas_run(filename)\n",
    "\n"
   ],
   "metadata": {
    "collapsed": false,
    "pycharm": {
     "name": "#%%\n",
     "is_executing": false
    }
   }
  },
  {
   "cell_type": "code",
   "execution_count": null,
   "outputs": [
    {
     "name": "stdout",
     "text": [
      "./data/sample_file_1.csv\n",
      "     value\nkey       \n0    662.0\n1    785.5\n2    417.5\n3    534.5\n4    381.0\n",
      "     value\nkey       \n0    662.0\n1    785.5\n2    417.5\n3    534.5\n4    381.0\n",
      "     value\nkey       \n0    662.0\n1    785.5\n2    417.5\n3    534.5\n4    381.0\n",
      "     value\nkey       \n0    662.0\n1    785.5\n2    417.5\n3    534.5\n4    381.0\n",
      "     value\nkey       \n0    662.0\n1    785.5\n2    417.5\n3    534.5\n4    381.0\n",
      "     value\nkey       \n0    662.0\n1    785.5\n2    417.5\n3    534.5\n4    381.0\n",
      "     value\nkey       \n0    662.0\n1    785.5\n2    417.5\n3    534.5\n4    381.0\n"
     ],
     "output_type": "stream"
    }
   ],
   "source": [
    "from pyspark.sql import SparkSession\n",
    "import pyspark.sql.functions  as f\n",
    "SparkSession.builder \\\n",
    "        .appName(\"Spark Benchmarking\") \\\n",
    "        .master('local[16]')\\\n",
    "        .config(\"spark.driver.memory\", '10g')\\\n",
    "        .getOrCreate()\n",
    "\n",
    "import databricks.koalas as ks\n",
    "import glob\n",
    "def koalas_run(file_name):\n",
    "    file_vals = ks.read_csv(file_name, sep=\",\", header=0)\n",
    "    file_vals = file_vals\\\n",
    "        .groupby(\"key\")\\\n",
    "        .mean()\n",
    "    print(file_vals.head(5))\n",
    "    del file_vals\n",
    "  \n",
    "for filename in glob.glob('./data/*.csv'):\n",
    "    print(filename)\n",
    "    %timeit koalas_run(filename)\n"
   ],
   "metadata": {
    "collapsed": false,
    "pycharm": {
     "name": "#%%\n",
     "is_executing": true
    }
   }
  },
  {
   "cell_type": "code",
   "execution_count": null,
   "outputs": [],
   "source": [
    "\n"
   ],
   "metadata": {
    "collapsed": false,
    "pycharm": {
     "name": "#%%\n"
    }
   }
  }
 ],
 "metadata": {
  "kernelspec": {
   "name": "pycharm-391ea69c",
   "language": "python",
   "display_name": "PyCharm (BlogPosts)"
  },
  "language_info": {
   "codemirror_mode": {
    "name": "ipython",
    "version": 2
   },
   "file_extension": ".py",
   "mimetype": "text/x-python",
   "name": "python",
   "nbconvert_exporter": "python",
   "pygments_lexer": "ipython2",
   "version": "2.7.6"
  },
  "pycharm": {
   "stem_cell": {
    "cell_type": "raw",
    "source": [],
    "metadata": {
     "collapsed": false
    }
   }
  }
 },
 "nbformat": 4,
 "nbformat_minor": 0
}