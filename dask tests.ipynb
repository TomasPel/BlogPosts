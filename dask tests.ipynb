{
 "cells": [
  {
   "cell_type": "code",
   "execution_count": 1,
   "outputs": [
    {
     "name": "stdout",
     "text": [
      "test\n"
     ],
     "output_type": "stream"
    }
   ],
   "source": [
    "import dask.dataframe as dd\n",
    "from datetime import datetime\n",
    "import dask.bag as db\n",
    "import json\n",
    "from dask.distributed import Client, LocalCluster \n",
    "print('test')\n",
    "\n",
    "#cluster = LocalCluster()\n",
    "client = Client(n_workers=8 ,memory_limit='16GB', processes=False, silence_logs='error')"
   ],
   "metadata": {
    "collapsed": false,
    "pycharm": {
     "name": "#%%\n",
     "is_executing": false
    }
   }
  },
  {
   "cell_type": "code",
   "execution_count": 2,
   "outputs": [],
   "source": [
    "def dask_run(file_name):\n",
    "    file_vals = dd.read_csv(file_name, sep=\",\", header=0)\n",
    "    file_vals = file_vals.groupby(\"key\")[\"value\"].transform('mean') \n",
    "    print(file_vals.head(5))\n",
    "\n",
    "    del file_vals"
   ],
   "metadata": {
    "collapsed": false,
    "pycharm": {
     "name": "#%%\n",
     "is_executing": false
    }
   }
  },
  {
   "cell_type": "code",
   "execution_count": 3,
   "outputs": [
    {
     "name": "stdout",
     "text": [
      "./data/sample_file_1.csv\n",
      "0    662.0\n1    785.5\n2    417.5\n3    534.5\n4    381.0\nName: value, dtype: float64\n",
      "0    662.0\n1    785.5\n2    417.5\n3    534.5\n4    381.0\nName: value, dtype: float64\n",
      "0    662.0\n1    785.5\n2    417.5\n3    534.5\n4    381.0\nName: value, dtype: float64\n",
      "0    662.0\n1    785.5\n2    417.5\n3    534.5\n4    381.0\nName: value, dtype: float64\n",
      "0    662.0\n1    785.5\n2    417.5\n3    534.5\n4    381.0\nName: value, dtype: float64\n",
      "0    662.0\n1    785.5\n2    417.5\n3    534.5\n4    381.0\nName: value, dtype: float64\n",
      "0    662.0\n1    785.5\n2    417.5\n3    534.5\n4    381.0\nName: value, dtype: float64\n",
      "0    662.0\n1    785.5\n2    417.5\n3    534.5\n4    381.0\nName: value, dtype: float64\n564 ms ± 13.6 ms per loop (mean ± std. dev. of 7 runs, 1 loop each)\n./data/sample_file_2.csv\n",
      "0    359.75\n1    639.50\n2    342.50\n3    545.75\n4    525.25\nName: value, dtype: float64\n",
      "0    359.75\n1    639.50\n2    342.50\n3    545.75\n4    525.25\nName: value, dtype: float64\n",
      "0    359.75\n1    639.50\n2    342.50\n3    545.75\n4    525.25\nName: value, dtype: float64\n",
      "0    359.75\n1    639.50\n2    342.50\n3    545.75\n4    525.25\nName: value, dtype: float64\n",
      "0    359.75\n1    639.50\n2    342.50\n3    545.75\n4    525.25\nName: value, dtype: float64\n",
      "0    359.75\n1    639.50\n2    342.50\n3    545.75\n4    525.25\nName: value, dtype: float64\n",
      "0    359.75\n1    639.50\n2    342.50\n3    545.75\n4    525.25\nName: value, dtype: float64\n",
      "0    359.75\n1    639.50\n2    342.50\n3    545.75\n4    525.25\nName: value, dtype: float64\n813 ms ± 13.7 ms per loop (mean ± std. dev. of 7 runs, 1 loop each)\n./data/sample_file_3.csv\n",
      "1     342.625\n9     278.875\n10    655.125\n11    543.750\n13    317.625\nName: value, dtype: float64\n",
      "1     342.625\n9     278.875\n10    655.125\n11    543.750\n13    317.625\nName: value, dtype: float64\n",
      "1     342.625\n9     278.875\n10    655.125\n11    543.750\n13    317.625\nName: value, dtype: float64\n",
      "1     342.625\n9     278.875\n10    655.125\n11    543.750\n13    317.625\nName: value, dtype: float64\n",
      "1     342.625\n9     278.875\n10    655.125\n11    543.750\n13    317.625\nName: value, dtype: float64\n",
      "1     342.625\n9     278.875\n10    655.125\n11    543.750\n13    317.625\nName: value, dtype: float64\n",
      "1     342.625\n9     278.875\n10    655.125\n11    543.750\n13    317.625\nName: value, dtype: float64\n",
      "1     342.625\n9     278.875\n10    655.125\n11    543.750\n13    317.625\nName: value, dtype: float64\n1.61 s ± 22.2 ms per loop (mean ± std. dev. of 7 runs, 1 loop each)\n./data/sample_file_7.csv\n",
      "1     483.484375\n14    488.546875\n22    458.140625\n41    412.968750\n55    408.578125\nName: value, dtype: float64\n",
      "1     483.484375\n14    488.546875\n22    458.140625\n41    412.968750\n55    408.578125\nName: value, dtype: float64\n",
      "1     483.484375\n14    488.546875\n22    458.140625\n41    412.968750\n55    408.578125\nName: value, dtype: float64\n",
      "1     483.484375\n14    488.546875\n22    458.140625\n41    412.968750\n55    408.578125\nName: value, dtype: float64\n",
      "1     483.484375\n14    488.546875\n22    458.140625\n41    412.968750\n55    408.578125\nName: value, dtype: float64\n",
      "1     483.484375\n14    488.546875\n22    458.140625\n41    412.968750\n55    408.578125\nName: value, dtype: float64\n",
      "1     483.484375\n14    488.546875\n22    458.140625\n41    412.968750\n55    408.578125\nName: value, dtype: float64\n",
      "1     483.484375\n14    488.546875\n22    458.140625\n41    412.968750\n55    408.578125\nName: value, dtype: float64\n12.4 s ± 147 ms per loop (mean ± std. dev. of 7 runs, 1 loop each)\n./data/sample_file_6.csv\n",
      "1     483.484375\n14    488.546875\n20    462.265625\n22    458.140625\n30    419.421875\nName: value, dtype: float64\n",
      "1     483.484375\n14    488.546875\n20    462.265625\n22    458.140625\n30    419.421875\nName: value, dtype: float64\n",
      "1     483.484375\n14    488.546875\n20    462.265625\n22    458.140625\n30    419.421875\nName: value, dtype: float64\n",
      "1     483.484375\n14    488.546875\n20    462.265625\n22    458.140625\n30    419.421875\nName: value, dtype: float64\n",
      "1     483.484375\n14    488.546875\n20    462.265625\n22    458.140625\n30    419.421875\nName: value, dtype: float64\n",
      "1     483.484375\n14    488.546875\n20    462.265625\n22    458.140625\n30    419.421875\nName: value, dtype: float64\n",
      "1     483.484375\n14    488.546875\n20    462.265625\n22    458.140625\n30    419.421875\nName: value, dtype: float64\n",
      "1     483.484375\n14    488.546875\n20    462.265625\n22    458.140625\n30    419.421875\nName: value, dtype: float64\n6.13 s ± 152 ms per loop (mean ± std. dev. of 7 runs, 1 loop each)\n./data/sample_file_4.csv\n",
      "6     447.3125\n7     376.7500\n14    435.3750\n16    408.6250\n17    446.3750\nName: value, dtype: float64\n",
      "6     447.3125\n7     376.7500\n14    435.3750\n16    408.6250\n17    446.3750\nName: value, dtype: float64\n",
      "6     447.3125\n7     376.7500\n14    435.3750\n16    408.6250\n17    446.3750\nName: value, dtype: float64\n",
      "6     447.3125\n7     376.7500\n14    435.3750\n16    408.6250\n17    446.3750\nName: value, dtype: float64\n",
      "6     447.3125\n7     376.7500\n14    435.3750\n16    408.6250\n17    446.3750\nName: value, dtype: float64\n",
      "6     447.3125\n7     376.7500\n14    435.3750\n16    408.6250\n17    446.3750\nName: value, dtype: float64\n",
      "6     447.3125\n7     376.7500\n14    435.3750\n16    408.6250\n17    446.3750\nName: value, dtype: float64\n",
      "6     447.3125\n7     376.7500\n14    435.3750\n16    408.6250\n17    446.3750\nName: value, dtype: float64\n1.99 s ± 38.4 ms per loop (mean ± std. dev. of 7 runs, 1 loop each)\n./data/sample_file_5.csv\n",
      "14    406.15625\n16    502.25000\n18    451.90625\n21    462.62500\n22    438.12500\nName: value, dtype: float64\n",
      "14    406.15625\n16    502.25000\n18    451.90625\n21    462.62500\n22    438.12500\nName: value, dtype: float64\n",
      "14    406.15625\n16    502.25000\n18    451.90625\n21    462.62500\n22    438.12500\nName: value, dtype: float64\n",
      "14    406.15625\n16    502.25000\n18    451.90625\n21    462.62500\n22    438.12500\nName: value, dtype: float64\n",
      "14    406.15625\n16    502.25000\n18    451.90625\n21    462.62500\n22    438.12500\nName: value, dtype: float64\n",
      "14    406.15625\n16    502.25000\n18    451.90625\n21    462.62500\n22    438.12500\nName: value, dtype: float64\n",
      "14    406.15625\n16    502.25000\n18    451.90625\n21    462.62500\n22    438.12500\nName: value, dtype: float64\n",
      "14    406.15625\n16    502.25000\n18    451.90625\n21    462.62500\n22    438.12500\nName: value, dtype: float64\n3.08 s ± 38.9 ms per loop (mean ± std. dev. of 7 runs, 1 loop each)\n./data/sample_file_8.csv\n",
      "22     458.140625\n55     408.578125\n114    494.734375\n150    484.437500\n172    422.468750\nName: value, dtype: float64\n",
      "22     458.140625\n55     408.578125\n114    494.734375\n150    484.437500\n172    422.468750\nName: value, dtype: float64\n",
      "22     458.140625\n55     408.578125\n114    494.734375\n150    484.437500\n172    422.468750\nName: value, dtype: float64\n",
      "22     458.140625\n55     408.578125\n114    494.734375\n150    484.437500\n172    422.468750\nName: value, dtype: float64\n",
      "22     458.140625\n55     408.578125\n114    494.734375\n150    484.437500\n172    422.468750\nName: value, dtype: float64\n",
      "22     458.140625\n55     408.578125\n114    494.734375\n150    484.437500\n172    422.468750\nName: value, dtype: float64\n",
      "22     458.140625\n55     408.578125\n114    494.734375\n150    484.437500\n172    422.468750\nName: value, dtype: float64\n",
      "22     458.140625\n55     408.578125\n114    494.734375\n150    484.437500\n172    422.468750\nName: value, dtype: float64\n24.9 s ± 1.15 s per loop (mean ± std. dev. of 7 runs, 1 loop each)\n./data/sample_file_9.csv\n",
      "55     408.578125\n154    415.031250\n251    486.812500\n302    430.703125\n477    523.640625\nName: value, dtype: float64\n",
      "55     408.578125\n154    415.031250\n251    486.812500\n302    430.703125\n477    523.640625\nName: value, dtype: float64\n",
      "55     408.578125\n154    415.031250\n251    486.812500\n302    430.703125\n477    523.640625\nName: value, dtype: float64\n",
      "55     408.578125\n154    415.031250\n251    486.812500\n302    430.703125\n477    523.640625\nName: value, dtype: float64\n",
      "55     408.578125\n154    415.031250\n251    486.812500\n302    430.703125\n477    523.640625\nName: value, dtype: float64\n",
      "55     408.578125\n154    415.031250\n251    486.812500\n302    430.703125\n477    523.640625\nName: value, dtype: float64\n",
      "55     408.578125\n154    415.031250\n251    486.812500\n302    430.703125\n477    523.640625\nName: value, dtype: float64\n",
      "55     408.578125\n154    415.031250\n251    486.812500\n302    430.703125\n477    523.640625\nName: value, dtype: float64\n59 s ± 2.58 s per loop (mean ± std. dev. of 7 runs, 1 loop each)\n"
     ],
     "output_type": "stream"
    },
    {
     "name": "stderr",
     "text": [
      "/usr/local/lib/python3.7/site-packages/ipykernel_launcher.py:4: UserWarning: `meta` is not specified, inferred from partial data. Please provide `meta` if the result is unexpected.\n  Before: .transform(func)\n  After:  .transform(func, meta={'x': 'f8', 'y': 'f8'}) for dataframe result\n  or:     .transform(func, meta=('x', 'f8'))            for series result\n  after removing the cwd from sys.path.\n",
      "/usr/local/lib/python3.7/site-packages/ipykernel_launcher.py:4: UserWarning: `meta` is not specified, inferred from partial data. Please provide `meta` if the result is unexpected.\n  Before: .transform(func)\n  After:  .transform(func, meta={'x': 'f8', 'y': 'f8'}) for dataframe result\n  or:     .transform(func, meta=('x', 'f8'))            for series result\n  after removing the cwd from sys.path.\n",
      "/usr/local/lib/python3.7/site-packages/ipykernel_launcher.py:4: UserWarning: `meta` is not specified, inferred from partial data. Please provide `meta` if the result is unexpected.\n  Before: .transform(func)\n  After:  .transform(func, meta={'x': 'f8', 'y': 'f8'}) for dataframe result\n  or:     .transform(func, meta=('x', 'f8'))            for series result\n  after removing the cwd from sys.path.\n",
      "/usr/local/lib/python3.7/site-packages/ipykernel_launcher.py:4: UserWarning: `meta` is not specified, inferred from partial data. Please provide `meta` if the result is unexpected.\n  Before: .transform(func)\n  After:  .transform(func, meta={'x': 'f8', 'y': 'f8'}) for dataframe result\n  or:     .transform(func, meta=('x', 'f8'))            for series result\n  after removing the cwd from sys.path.\n",
      "/usr/local/lib/python3.7/site-packages/ipykernel_launcher.py:4: UserWarning: `meta` is not specified, inferred from partial data. Please provide `meta` if the result is unexpected.\n  Before: .transform(func)\n  After:  .transform(func, meta={'x': 'f8', 'y': 'f8'}) for dataframe result\n  or:     .transform(func, meta=('x', 'f8'))            for series result\n  after removing the cwd from sys.path.\n",
      "/usr/local/lib/python3.7/site-packages/ipykernel_launcher.py:4: UserWarning: `meta` is not specified, inferred from partial data. Please provide `meta` if the result is unexpected.\n  Before: .transform(func)\n  After:  .transform(func, meta={'x': 'f8', 'y': 'f8'}) for dataframe result\n  or:     .transform(func, meta=('x', 'f8'))            for series result\n  after removing the cwd from sys.path.\n",
      "/usr/local/lib/python3.7/site-packages/ipykernel_launcher.py:4: UserWarning: `meta` is not specified, inferred from partial data. Please provide `meta` if the result is unexpected.\n  Before: .transform(func)\n  After:  .transform(func, meta={'x': 'f8', 'y': 'f8'}) for dataframe result\n  or:     .transform(func, meta=('x', 'f8'))            for series result\n  after removing the cwd from sys.path.\n",
      "/usr/local/lib/python3.7/site-packages/ipykernel_launcher.py:4: UserWarning: `meta` is not specified, inferred from partial data. Please provide `meta` if the result is unexpected.\n  Before: .transform(func)\n  After:  .transform(func, meta={'x': 'f8', 'y': 'f8'}) for dataframe result\n  or:     .transform(func, meta=('x', 'f8'))            for series result\n  after removing the cwd from sys.path.\n",
      "/usr/local/lib/python3.7/site-packages/ipykernel_launcher.py:4: UserWarning: `meta` is not specified, inferred from partial data. Please provide `meta` if the result is unexpected.\n  Before: .transform(func)\n  After:  .transform(func, meta={'x': 'f8', 'y': 'f8'}) for dataframe result\n  or:     .transform(func, meta=('x', 'f8'))            for series result\n  after removing the cwd from sys.path.\n",
      "/usr/local/lib/python3.7/site-packages/ipykernel_launcher.py:4: UserWarning: `meta` is not specified, inferred from partial data. Please provide `meta` if the result is unexpected.\n  Before: .transform(func)\n  After:  .transform(func, meta={'x': 'f8', 'y': 'f8'}) for dataframe result\n  or:     .transform(func, meta=('x', 'f8'))            for series result\n  after removing the cwd from sys.path.\n",
      "/usr/local/lib/python3.7/site-packages/ipykernel_launcher.py:4: UserWarning: `meta` is not specified, inferred from partial data. Please provide `meta` if the result is unexpected.\n  Before: .transform(func)\n  After:  .transform(func, meta={'x': 'f8', 'y': 'f8'}) for dataframe result\n  or:     .transform(func, meta=('x', 'f8'))            for series result\n  after removing the cwd from sys.path.\n",
      "/usr/local/lib/python3.7/site-packages/ipykernel_launcher.py:4: UserWarning: `meta` is not specified, inferred from partial data. Please provide `meta` if the result is unexpected.\n  Before: .transform(func)\n  After:  .transform(func, meta={'x': 'f8', 'y': 'f8'}) for dataframe result\n  or:     .transform(func, meta=('x', 'f8'))            for series result\n  after removing the cwd from sys.path.\n",
      "/usr/local/lib/python3.7/site-packages/ipykernel_launcher.py:4: UserWarning: `meta` is not specified, inferred from partial data. Please provide `meta` if the result is unexpected.\n  Before: .transform(func)\n  After:  .transform(func, meta={'x': 'f8', 'y': 'f8'}) for dataframe result\n  or:     .transform(func, meta=('x', 'f8'))            for series result\n  after removing the cwd from sys.path.\n",
      "/usr/local/lib/python3.7/site-packages/ipykernel_launcher.py:4: UserWarning: `meta` is not specified, inferred from partial data. Please provide `meta` if the result is unexpected.\n  Before: .transform(func)\n  After:  .transform(func, meta={'x': 'f8', 'y': 'f8'}) for dataframe result\n  or:     .transform(func, meta=('x', 'f8'))            for series result\n  after removing the cwd from sys.path.\n",
      "/usr/local/lib/python3.7/site-packages/ipykernel_launcher.py:4: UserWarning: `meta` is not specified, inferred from partial data. Please provide `meta` if the result is unexpected.\n  Before: .transform(func)\n  After:  .transform(func, meta={'x': 'f8', 'y': 'f8'}) for dataframe result\n  or:     .transform(func, meta=('x', 'f8'))            for series result\n  after removing the cwd from sys.path.\n",
      "/usr/local/lib/python3.7/site-packages/ipykernel_launcher.py:4: UserWarning: `meta` is not specified, inferred from partial data. Please provide `meta` if the result is unexpected.\n  Before: .transform(func)\n  After:  .transform(func, meta={'x': 'f8', 'y': 'f8'}) for dataframe result\n  or:     .transform(func, meta=('x', 'f8'))            for series result\n  after removing the cwd from sys.path.\n",
      "/usr/local/lib/python3.7/site-packages/ipykernel_launcher.py:4: UserWarning: `meta` is not specified, inferred from partial data. Please provide `meta` if the result is unexpected.\n  Before: .transform(func)\n  After:  .transform(func, meta={'x': 'f8', 'y': 'f8'}) for dataframe result\n  or:     .transform(func, meta=('x', 'f8'))            for series result\n  after removing the cwd from sys.path.\n",
      "/usr/local/lib/python3.7/site-packages/ipykernel_launcher.py:4: UserWarning: `meta` is not specified, inferred from partial data. Please provide `meta` if the result is unexpected.\n  Before: .transform(func)\n  After:  .transform(func, meta={'x': 'f8', 'y': 'f8'}) for dataframe result\n  or:     .transform(func, meta=('x', 'f8'))            for series result\n  after removing the cwd from sys.path.\n",
      "/usr/local/lib/python3.7/site-packages/ipykernel_launcher.py:4: UserWarning: `meta` is not specified, inferred from partial data. Please provide `meta` if the result is unexpected.\n  Before: .transform(func)\n  After:  .transform(func, meta={'x': 'f8', 'y': 'f8'}) for dataframe result\n  or:     .transform(func, meta=('x', 'f8'))            for series result\n  after removing the cwd from sys.path.\n",
      "/usr/local/lib/python3.7/site-packages/ipykernel_launcher.py:4: UserWarning: `meta` is not specified, inferred from partial data. Please provide `meta` if the result is unexpected.\n  Before: .transform(func)\n  After:  .transform(func, meta={'x': 'f8', 'y': 'f8'}) for dataframe result\n  or:     .transform(func, meta=('x', 'f8'))            for series result\n  after removing the cwd from sys.path.\n",
      "/usr/local/lib/python3.7/site-packages/ipykernel_launcher.py:4: UserWarning: `meta` is not specified, inferred from partial data. Please provide `meta` if the result is unexpected.\n  Before: .transform(func)\n  After:  .transform(func, meta={'x': 'f8', 'y': 'f8'}) for dataframe result\n  or:     .transform(func, meta=('x', 'f8'))            for series result\n  after removing the cwd from sys.path.\n",
      "/usr/local/lib/python3.7/site-packages/ipykernel_launcher.py:4: UserWarning: `meta` is not specified, inferred from partial data. Please provide `meta` if the result is unexpected.\n  Before: .transform(func)\n  After:  .transform(func, meta={'x': 'f8', 'y': 'f8'}) for dataframe result\n  or:     .transform(func, meta=('x', 'f8'))            for series result\n  after removing the cwd from sys.path.\n",
      "/usr/local/lib/python3.7/site-packages/ipykernel_launcher.py:4: UserWarning: `meta` is not specified, inferred from partial data. Please provide `meta` if the result is unexpected.\n  Before: .transform(func)\n  After:  .transform(func, meta={'x': 'f8', 'y': 'f8'}) for dataframe result\n  or:     .transform(func, meta=('x', 'f8'))            for series result\n  after removing the cwd from sys.path.\n",
      "/usr/local/lib/python3.7/site-packages/ipykernel_launcher.py:4: UserWarning: `meta` is not specified, inferred from partial data. Please provide `meta` if the result is unexpected.\n  Before: .transform(func)\n  After:  .transform(func, meta={'x': 'f8', 'y': 'f8'}) for dataframe result\n  or:     .transform(func, meta=('x', 'f8'))            for series result\n  after removing the cwd from sys.path.\n",
      "/usr/local/lib/python3.7/site-packages/ipykernel_launcher.py:4: UserWarning: `meta` is not specified, inferred from partial data. Please provide `meta` if the result is unexpected.\n  Before: .transform(func)\n  After:  .transform(func, meta={'x': 'f8', 'y': 'f8'}) for dataframe result\n  or:     .transform(func, meta=('x', 'f8'))            for series result\n  after removing the cwd from sys.path.\n",
      "/usr/local/lib/python3.7/site-packages/ipykernel_launcher.py:4: UserWarning: `meta` is not specified, inferred from partial data. Please provide `meta` if the result is unexpected.\n  Before: .transform(func)\n  After:  .transform(func, meta={'x': 'f8', 'y': 'f8'}) for dataframe result\n  or:     .transform(func, meta=('x', 'f8'))            for series result\n  after removing the cwd from sys.path.\n",
      "/usr/local/lib/python3.7/site-packages/ipykernel_launcher.py:4: UserWarning: `meta` is not specified, inferred from partial data. Please provide `meta` if the result is unexpected.\n  Before: .transform(func)\n  After:  .transform(func, meta={'x': 'f8', 'y': 'f8'}) for dataframe result\n  or:     .transform(func, meta=('x', 'f8'))            for series result\n  after removing the cwd from sys.path.\n",
      "/usr/local/lib/python3.7/site-packages/ipykernel_launcher.py:4: UserWarning: `meta` is not specified, inferred from partial data. Please provide `meta` if the result is unexpected.\n  Before: .transform(func)\n  After:  .transform(func, meta={'x': 'f8', 'y': 'f8'}) for dataframe result\n  or:     .transform(func, meta=('x', 'f8'))            for series result\n  after removing the cwd from sys.path.\n",
      "/usr/local/lib/python3.7/site-packages/ipykernel_launcher.py:4: UserWarning: `meta` is not specified, inferred from partial data. Please provide `meta` if the result is unexpected.\n  Before: .transform(func)\n  After:  .transform(func, meta={'x': 'f8', 'y': 'f8'}) for dataframe result\n  or:     .transform(func, meta=('x', 'f8'))            for series result\n  after removing the cwd from sys.path.\n",
      "/usr/local/lib/python3.7/site-packages/ipykernel_launcher.py:4: UserWarning: `meta` is not specified, inferred from partial data. Please provide `meta` if the result is unexpected.\n  Before: .transform(func)\n  After:  .transform(func, meta={'x': 'f8', 'y': 'f8'}) for dataframe result\n  or:     .transform(func, meta=('x', 'f8'))            for series result\n  after removing the cwd from sys.path.\n",
      "/usr/local/lib/python3.7/site-packages/ipykernel_launcher.py:4: UserWarning: `meta` is not specified, inferred from partial data. Please provide `meta` if the result is unexpected.\n  Before: .transform(func)\n  After:  .transform(func, meta={'x': 'f8', 'y': 'f8'}) for dataframe result\n  or:     .transform(func, meta=('x', 'f8'))            for series result\n  after removing the cwd from sys.path.\n",
      "/usr/local/lib/python3.7/site-packages/ipykernel_launcher.py:4: UserWarning: `meta` is not specified, inferred from partial data. Please provide `meta` if the result is unexpected.\n  Before: .transform(func)\n  After:  .transform(func, meta={'x': 'f8', 'y': 'f8'}) for dataframe result\n  or:     .transform(func, meta=('x', 'f8'))            for series result\n  after removing the cwd from sys.path.\n",
      "/usr/local/lib/python3.7/site-packages/ipykernel_launcher.py:4: UserWarning: `meta` is not specified, inferred from partial data. Please provide `meta` if the result is unexpected.\n  Before: .transform(func)\n  After:  .transform(func, meta={'x': 'f8', 'y': 'f8'}) for dataframe result\n  or:     .transform(func, meta=('x', 'f8'))            for series result\n  after removing the cwd from sys.path.\n",
      "/usr/local/lib/python3.7/site-packages/ipykernel_launcher.py:4: UserWarning: `meta` is not specified, inferred from partial data. Please provide `meta` if the result is unexpected.\n  Before: .transform(func)\n  After:  .transform(func, meta={'x': 'f8', 'y': 'f8'}) for dataframe result\n  or:     .transform(func, meta=('x', 'f8'))            for series result\n  after removing the cwd from sys.path.\n",
      "/usr/local/lib/python3.7/site-packages/ipykernel_launcher.py:4: UserWarning: `meta` is not specified, inferred from partial data. Please provide `meta` if the result is unexpected.\n  Before: .transform(func)\n  After:  .transform(func, meta={'x': 'f8', 'y': 'f8'}) for dataframe result\n  or:     .transform(func, meta=('x', 'f8'))            for series result\n  after removing the cwd from sys.path.\n",
      "/usr/local/lib/python3.7/site-packages/ipykernel_launcher.py:4: UserWarning: `meta` is not specified, inferred from partial data. Please provide `meta` if the result is unexpected.\n  Before: .transform(func)\n  After:  .transform(func, meta={'x': 'f8', 'y': 'f8'}) for dataframe result\n  or:     .transform(func, meta=('x', 'f8'))            for series result\n  after removing the cwd from sys.path.\n",
      "/usr/local/lib/python3.7/site-packages/ipykernel_launcher.py:4: UserWarning: `meta` is not specified, inferred from partial data. Please provide `meta` if the result is unexpected.\n  Before: .transform(func)\n  After:  .transform(func, meta={'x': 'f8', 'y': 'f8'}) for dataframe result\n  or:     .transform(func, meta=('x', 'f8'))            for series result\n  after removing the cwd from sys.path.\n",
      "/usr/local/lib/python3.7/site-packages/ipykernel_launcher.py:4: UserWarning: `meta` is not specified, inferred from partial data. Please provide `meta` if the result is unexpected.\n  Before: .transform(func)\n  After:  .transform(func, meta={'x': 'f8', 'y': 'f8'}) for dataframe result\n  or:     .transform(func, meta=('x', 'f8'))            for series result\n  after removing the cwd from sys.path.\n",
      "/usr/local/lib/python3.7/site-packages/ipykernel_launcher.py:4: UserWarning: `meta` is not specified, inferred from partial data. Please provide `meta` if the result is unexpected.\n  Before: .transform(func)\n  After:  .transform(func, meta={'x': 'f8', 'y': 'f8'}) for dataframe result\n  or:     .transform(func, meta=('x', 'f8'))            for series result\n  after removing the cwd from sys.path.\n",
      "/usr/local/lib/python3.7/site-packages/ipykernel_launcher.py:4: UserWarning: `meta` is not specified, inferred from partial data. Please provide `meta` if the result is unexpected.\n  Before: .transform(func)\n  After:  .transform(func, meta={'x': 'f8', 'y': 'f8'}) for dataframe result\n  or:     .transform(func, meta=('x', 'f8'))            for series result\n  after removing the cwd from sys.path.\n",
      "/usr/local/lib/python3.7/site-packages/ipykernel_launcher.py:4: UserWarning: `meta` is not specified, inferred from partial data. Please provide `meta` if the result is unexpected.\n  Before: .transform(func)\n  After:  .transform(func, meta={'x': 'f8', 'y': 'f8'}) for dataframe result\n  or:     .transform(func, meta=('x', 'f8'))            for series result\n  after removing the cwd from sys.path.\n",
      "/usr/local/lib/python3.7/site-packages/ipykernel_launcher.py:4: UserWarning: `meta` is not specified, inferred from partial data. Please provide `meta` if the result is unexpected.\n  Before: .transform(func)\n  After:  .transform(func, meta={'x': 'f8', 'y': 'f8'}) for dataframe result\n  or:     .transform(func, meta=('x', 'f8'))            for series result\n  after removing the cwd from sys.path.\n",
      "/usr/local/lib/python3.7/site-packages/ipykernel_launcher.py:4: UserWarning: `meta` is not specified, inferred from partial data. Please provide `meta` if the result is unexpected.\n  Before: .transform(func)\n  After:  .transform(func, meta={'x': 'f8', 'y': 'f8'}) for dataframe result\n  or:     .transform(func, meta=('x', 'f8'))            for series result\n  after removing the cwd from sys.path.\n",
      "/usr/local/lib/python3.7/site-packages/ipykernel_launcher.py:4: UserWarning: `meta` is not specified, inferred from partial data. Please provide `meta` if the result is unexpected.\n  Before: .transform(func)\n  After:  .transform(func, meta={'x': 'f8', 'y': 'f8'}) for dataframe result\n  or:     .transform(func, meta=('x', 'f8'))            for series result\n  after removing the cwd from sys.path.\n",
      "/usr/local/lib/python3.7/site-packages/ipykernel_launcher.py:4: UserWarning: `meta` is not specified, inferred from partial data. Please provide `meta` if the result is unexpected.\n  Before: .transform(func)\n  After:  .transform(func, meta={'x': 'f8', 'y': 'f8'}) for dataframe result\n  or:     .transform(func, meta=('x', 'f8'))            for series result\n  after removing the cwd from sys.path.\n",
      "/usr/local/lib/python3.7/site-packages/ipykernel_launcher.py:4: UserWarning: `meta` is not specified, inferred from partial data. Please provide `meta` if the result is unexpected.\n  Before: .transform(func)\n  After:  .transform(func, meta={'x': 'f8', 'y': 'f8'}) for dataframe result\n  or:     .transform(func, meta=('x', 'f8'))            for series result\n  after removing the cwd from sys.path.\n",
      "/usr/local/lib/python3.7/site-packages/ipykernel_launcher.py:4: UserWarning: `meta` is not specified, inferred from partial data. Please provide `meta` if the result is unexpected.\n  Before: .transform(func)\n  After:  .transform(func, meta={'x': 'f8', 'y': 'f8'}) for dataframe result\n  or:     .transform(func, meta=('x', 'f8'))            for series result\n  after removing the cwd from sys.path.\n",
      "/usr/local/lib/python3.7/site-packages/ipykernel_launcher.py:4: UserWarning: `meta` is not specified, inferred from partial data. Please provide `meta` if the result is unexpected.\n  Before: .transform(func)\n  After:  .transform(func, meta={'x': 'f8', 'y': 'f8'}) for dataframe result\n  or:     .transform(func, meta=('x', 'f8'))            for series result\n  after removing the cwd from sys.path.\n",
      "/usr/local/lib/python3.7/site-packages/ipykernel_launcher.py:4: UserWarning: `meta` is not specified, inferred from partial data. Please provide `meta` if the result is unexpected.\n  Before: .transform(func)\n  After:  .transform(func, meta={'x': 'f8', 'y': 'f8'}) for dataframe result\n  or:     .transform(func, meta=('x', 'f8'))            for series result\n  after removing the cwd from sys.path.\n",
      "/usr/local/lib/python3.7/site-packages/ipykernel_launcher.py:4: UserWarning: `meta` is not specified, inferred from partial data. Please provide `meta` if the result is unexpected.\n  Before: .transform(func)\n  After:  .transform(func, meta={'x': 'f8', 'y': 'f8'}) for dataframe result\n  or:     .transform(func, meta=('x', 'f8'))            for series result\n  after removing the cwd from sys.path.\n",
      "/usr/local/lib/python3.7/site-packages/ipykernel_launcher.py:4: UserWarning: `meta` is not specified, inferred from partial data. Please provide `meta` if the result is unexpected.\n  Before: .transform(func)\n  After:  .transform(func, meta={'x': 'f8', 'y': 'f8'}) for dataframe result\n  or:     .transform(func, meta=('x', 'f8'))            for series result\n  after removing the cwd from sys.path.\n",
      "/usr/local/lib/python3.7/site-packages/ipykernel_launcher.py:4: UserWarning: `meta` is not specified, inferred from partial data. Please provide `meta` if the result is unexpected.\n  Before: .transform(func)\n  After:  .transform(func, meta={'x': 'f8', 'y': 'f8'}) for dataframe result\n  or:     .transform(func, meta=('x', 'f8'))            for series result\n  after removing the cwd from sys.path.\n",
      "/usr/local/lib/python3.7/site-packages/ipykernel_launcher.py:4: UserWarning: `meta` is not specified, inferred from partial data. Please provide `meta` if the result is unexpected.\n  Before: .transform(func)\n  After:  .transform(func, meta={'x': 'f8', 'y': 'f8'}) for dataframe result\n  or:     .transform(func, meta=('x', 'f8'))            for series result\n  after removing the cwd from sys.path.\n",
      "/usr/local/lib/python3.7/site-packages/ipykernel_launcher.py:4: UserWarning: `meta` is not specified, inferred from partial data. Please provide `meta` if the result is unexpected.\n  Before: .transform(func)\n  After:  .transform(func, meta={'x': 'f8', 'y': 'f8'}) for dataframe result\n  or:     .transform(func, meta=('x', 'f8'))            for series result\n  after removing the cwd from sys.path.\n",
      "/usr/local/lib/python3.7/site-packages/ipykernel_launcher.py:4: UserWarning: `meta` is not specified, inferred from partial data. Please provide `meta` if the result is unexpected.\n  Before: .transform(func)\n  After:  .transform(func, meta={'x': 'f8', 'y': 'f8'}) for dataframe result\n  or:     .transform(func, meta=('x', 'f8'))            for series result\n  after removing the cwd from sys.path.\n",
      "/usr/local/lib/python3.7/site-packages/ipykernel_launcher.py:4: UserWarning: `meta` is not specified, inferred from partial data. Please provide `meta` if the result is unexpected.\n  Before: .transform(func)\n  After:  .transform(func, meta={'x': 'f8', 'y': 'f8'}) for dataframe result\n  or:     .transform(func, meta=('x', 'f8'))            for series result\n  after removing the cwd from sys.path.\n",
      "/usr/local/lib/python3.7/site-packages/ipykernel_launcher.py:4: UserWarning: `meta` is not specified, inferred from partial data. Please provide `meta` if the result is unexpected.\n  Before: .transform(func)\n  After:  .transform(func, meta={'x': 'f8', 'y': 'f8'}) for dataframe result\n  or:     .transform(func, meta=('x', 'f8'))            for series result\n  after removing the cwd from sys.path.\n",
      "/usr/local/lib/python3.7/site-packages/ipykernel_launcher.py:4: UserWarning: `meta` is not specified, inferred from partial data. Please provide `meta` if the result is unexpected.\n  Before: .transform(func)\n  After:  .transform(func, meta={'x': 'f8', 'y': 'f8'}) for dataframe result\n  or:     .transform(func, meta=('x', 'f8'))            for series result\n  after removing the cwd from sys.path.\n",
      "/usr/local/lib/python3.7/site-packages/ipykernel_launcher.py:4: UserWarning: `meta` is not specified, inferred from partial data. Please provide `meta` if the result is unexpected.\n  Before: .transform(func)\n  After:  .transform(func, meta={'x': 'f8', 'y': 'f8'}) for dataframe result\n  or:     .transform(func, meta=('x', 'f8'))            for series result\n  after removing the cwd from sys.path.\n",
      "/usr/local/lib/python3.7/site-packages/ipykernel_launcher.py:4: UserWarning: `meta` is not specified, inferred from partial data. Please provide `meta` if the result is unexpected.\n  Before: .transform(func)\n  After:  .transform(func, meta={'x': 'f8', 'y': 'f8'}) for dataframe result\n  or:     .transform(func, meta=('x', 'f8'))            for series result\n  after removing the cwd from sys.path.\n",
      "/usr/local/lib/python3.7/site-packages/ipykernel_launcher.py:4: UserWarning: `meta` is not specified, inferred from partial data. Please provide `meta` if the result is unexpected.\n  Before: .transform(func)\n  After:  .transform(func, meta={'x': 'f8', 'y': 'f8'}) for dataframe result\n  or:     .transform(func, meta=('x', 'f8'))            for series result\n  after removing the cwd from sys.path.\n",
      "/usr/local/lib/python3.7/site-packages/ipykernel_launcher.py:4: UserWarning: `meta` is not specified, inferred from partial data. Please provide `meta` if the result is unexpected.\n  Before: .transform(func)\n  After:  .transform(func, meta={'x': 'f8', 'y': 'f8'}) for dataframe result\n  or:     .transform(func, meta=('x', 'f8'))            for series result\n  after removing the cwd from sys.path.\n",
      "/usr/local/lib/python3.7/site-packages/ipykernel_launcher.py:4: UserWarning: `meta` is not specified, inferred from partial data. Please provide `meta` if the result is unexpected.\n  Before: .transform(func)\n  After:  .transform(func, meta={'x': 'f8', 'y': 'f8'}) for dataframe result\n  or:     .transform(func, meta=('x', 'f8'))            for series result\n  after removing the cwd from sys.path.\n",
      "/usr/local/lib/python3.7/site-packages/ipykernel_launcher.py:4: UserWarning: `meta` is not specified, inferred from partial data. Please provide `meta` if the result is unexpected.\n  Before: .transform(func)\n  After:  .transform(func, meta={'x': 'f8', 'y': 'f8'}) for dataframe result\n  or:     .transform(func, meta=('x', 'f8'))            for series result\n  after removing the cwd from sys.path.\n",
      "/usr/local/lib/python3.7/site-packages/ipykernel_launcher.py:4: UserWarning: `meta` is not specified, inferred from partial data. Please provide `meta` if the result is unexpected.\n  Before: .transform(func)\n  After:  .transform(func, meta={'x': 'f8', 'y': 'f8'}) for dataframe result\n  or:     .transform(func, meta=('x', 'f8'))            for series result\n  after removing the cwd from sys.path.\n",
      "/usr/local/lib/python3.7/site-packages/ipykernel_launcher.py:4: UserWarning: `meta` is not specified, inferred from partial data. Please provide `meta` if the result is unexpected.\n  Before: .transform(func)\n  After:  .transform(func, meta={'x': 'f8', 'y': 'f8'}) for dataframe result\n  or:     .transform(func, meta=('x', 'f8'))            for series result\n  after removing the cwd from sys.path.\n",
      "/usr/local/lib/python3.7/site-packages/ipykernel_launcher.py:4: UserWarning: `meta` is not specified, inferred from partial data. Please provide `meta` if the result is unexpected.\n  Before: .transform(func)\n  After:  .transform(func, meta={'x': 'f8', 'y': 'f8'}) for dataframe result\n  or:     .transform(func, meta=('x', 'f8'))            for series result\n  after removing the cwd from sys.path.\n",
      "/usr/local/lib/python3.7/site-packages/ipykernel_launcher.py:4: UserWarning: `meta` is not specified, inferred from partial data. Please provide `meta` if the result is unexpected.\n  Before: .transform(func)\n  After:  .transform(func, meta={'x': 'f8', 'y': 'f8'}) for dataframe result\n  or:     .transform(func, meta=('x', 'f8'))            for series result\n  after removing the cwd from sys.path.\n",
      "/usr/local/lib/python3.7/site-packages/ipykernel_launcher.py:4: UserWarning: `meta` is not specified, inferred from partial data. Please provide `meta` if the result is unexpected.\n  Before: .transform(func)\n  After:  .transform(func, meta={'x': 'f8', 'y': 'f8'}) for dataframe result\n  or:     .transform(func, meta=('x', 'f8'))            for series result\n  after removing the cwd from sys.path.\n",
      "/usr/local/lib/python3.7/site-packages/ipykernel_launcher.py:4: UserWarning: `meta` is not specified, inferred from partial data. Please provide `meta` if the result is unexpected.\n  Before: .transform(func)\n  After:  .transform(func, meta={'x': 'f8', 'y': 'f8'}) for dataframe result\n  or:     .transform(func, meta=('x', 'f8'))            for series result\n  after removing the cwd from sys.path.\n",
      "/usr/local/lib/python3.7/site-packages/ipykernel_launcher.py:4: UserWarning: `meta` is not specified, inferred from partial data. Please provide `meta` if the result is unexpected.\n  Before: .transform(func)\n  After:  .transform(func, meta={'x': 'f8', 'y': 'f8'}) for dataframe result\n  or:     .transform(func, meta=('x', 'f8'))            for series result\n  after removing the cwd from sys.path.\n",
      "/usr/local/lib/python3.7/site-packages/ipykernel_launcher.py:4: UserWarning: `meta` is not specified, inferred from partial data. Please provide `meta` if the result is unexpected.\n  Before: .transform(func)\n  After:  .transform(func, meta={'x': 'f8', 'y': 'f8'}) for dataframe result\n  or:     .transform(func, meta=('x', 'f8'))            for series result\n  after removing the cwd from sys.path.\n"
     ],
     "output_type": "stream"
    }
   ],
   "source": [
    "import glob\n",
    "for filename in glob.glob('./data/*.csv'):\n",
    "    print(filename)\n",
    "\n",
    "    %timeit dask_run(filename)\n",
    "    "
   ],
   "metadata": {
    "collapsed": false,
    "pycharm": {
     "name": "#%%\n",
     "is_executing": false
    }
   }
  },
  {
   "cell_type": "code",
   "execution_count": 4,
   "outputs": [
    {
     "name": "stderr",
     "text": [
      "distributed.client - ERROR - Failed to reconnect to scheduler after 10.00 seconds, closing client\n"
     ],
     "output_type": "stream"
    }
   ],
   "source": [
    "client.shutdown()"
   ],
   "metadata": {
    "collapsed": false,
    "pycharm": {
     "name": "#%%\n",
     "is_executing": false
    }
   }
  },
  {
   "cell_type": "code",
   "execution_count": 4,
   "outputs": [],
   "source": [],
   "metadata": {
    "collapsed": false,
    "pycharm": {
     "name": "#%%\n",
     "is_executing": false
    }
   }
  }
 ],
 "metadata": {
  "kernelspec": {
   "display_name": "Python 3",
   "language": "python",
   "name": "python3"
  },
  "language_info": {
   "codemirror_mode": {
    "name": "ipython",
    "version": 2
   },
   "file_extension": ".py",
   "mimetype": "text/x-python",
   "name": "python",
   "nbconvert_exporter": "python",
   "pygments_lexer": "ipython2",
   "version": "2.7.6"
  },
  "pycharm": {
   "stem_cell": {
    "cell_type": "raw",
    "source": [],
    "metadata": {
     "collapsed": false
    }
   }
  }
 },
 "nbformat": 4,
 "nbformat_minor": 0
}