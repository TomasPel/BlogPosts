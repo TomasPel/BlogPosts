{
 "cells": [
  {
   "cell_type": "code",
   "execution_count": 2,
   "metadata": {},
   "outputs": [
    {
     "name": "stdout",
     "output_type": "stream",
     "text": "test\n"
    }
   ],
   "source": [
    "import dask.dataframe as dd\n",
    "from datetime import datetime\n",
    "import math\n",
    "from dask.multiprocessing import get\n",
    "from dask.distributed import Client, LocalCluster \n",
    "print('test')\n",
    "\n",
    "#cluster = LocalCluster(n_workers = 8, threads_per_worker = 16, processes=False, memory_limit='16GB', silence_logs='error')\n",
    "client = Client(memory_limit='16GB', processes=False, silence_logs='error')\n",
    "#client = Client(cluster)"
   ]
  },
  {
   "cell_type": "code",
   "execution_count": 9,
   "metadata": {},
   "outputs": [],
   "source": [
    "def dask_run(file_name):\n",
    "    file_vals = dd.read_csv(file_name, sep=\",\")\n",
    "    file_vals.columns = [\"key\", \"value1\", \"value2\", \"value3\"]\n",
    "    file_vals[\"Ratio1\"] = (file_vals[\"value1\"] - file_vals[\"value2\"])/file_vals[\"value3\"]\n",
    "    file_vals = file_vals.groupby(\"key\").agg({'Ratio1' : 'mean'})\n",
    "    f = (file_name.split('.')[1]).split('/')[2]\n",
    "    file_vals.to_parquet(f'./output/{f}.parquet', engine='fastparquet')\n",
    "    del file_vals"
   ]
  },
  {
   "source": [
    "\n",
    "import glob\n",
    "for filename in glob.glob('./data/*.csv'):\n",
    "    print(filename)\n",
    "    %timeit dask_run(filename)\n",
    "    "
   ],
   "cell_type": "code",
   "outputs": [
    {
     "output_type": "stream",
     "name": "stdout",
     "text": "./data/sample_file_1.csv\n542 ms ± 12.8 ms per loop (mean ± std. dev. of 7 runs, 1 loop each)\n./data/sample_file_2.csv\n991 ms ± 25.5 ms per loop (mean ± std. dev. of 7 runs, 1 loop each)\n./data/sample_file_3.csv\n1.15 s ± 24.1 ms per loop (mean ± std. dev. of 7 runs, 1 loop each)\n./data/sample_file_7.csv\n9.84 s ± 68.2 ms per loop (mean ± std. dev. of 7 runs, 1 loop each)\n./data/sample_file_6.csv\n5.16 s ± 73.6 ms per loop (mean ± std. dev. of 7 runs, 1 loop each)\n./data/sample_file_4.csv\n1.59 s ± 25.5 ms per loop (mean ± std. dev. of 7 runs, 1 loop each)\n./data/sample_file_5.csv\n2.64 s ± 42.5 ms per loop (mean ± std. dev. of 7 runs, 1 loop each)\n./data/sample_file_8.csv\n20.1 s ± 482 ms per loop (mean ± std. dev. of 7 runs, 1 loop each)\n"
    }
   ],
   "metadata": {},
   "execution_count": 10
  },
  {
   "source": [
    "client.shutdown()"
   ],
   "cell_type": "code",
   "outputs": [],
   "metadata": {},
   "execution_count": 11
  },
  {
   "cell_type": "code",
   "execution_count": 7,
   "metadata": {},
   "outputs": [
    {
     "name": "stderr",
     "output_type": "stream",
     "text": "ERROR:root:Internal Python error in the inspect module.\nBelow is the traceback from this internal error.\n\nERROR:root:Internal Python error in the inspect module.\nBelow is the traceback from this internal error.\n\nERROR:root:Internal Python error in the inspect module.\nBelow is the traceback from this internal error.\n\nTraceback (most recent call last):\n  File \"/usr/local/lib/python3.7/site-packages/distributed/client.py\", line 2572, in get\n    results = self.gather(packed, asynchronous=asynchronous, direct=direct)\n  File \"/usr/local/lib/python3.7/site-packages/distributed/client.py\", line 1872, in gather\n    asynchronous=asynchronous,\n  File \"/usr/local/lib/python3.7/site-packages/distributed/client.py\", line 767, in sync\n    self.loop, func, *args, callback_timeout=callback_timeout, **kwargs\n  File \"/usr/local/lib/python3.7/site-packages/distributed/utils.py\", line 331, in sync\n    e.wait(10)\n  File \"/usr/local/Cellar/python/3.7.2_2/Frameworks/Python.framework/Versions/3.7/lib/python3.7/threading.py\", line 552, in wait\n    signaled = self._cond.wait(timeout)\n  File \"/usr/local/Cellar/python/3.7.2_2/Frameworks/Python.framework/Versions/3.7/lib/python3.7/threading.py\", line 300, in wait\n    gotit = waiter.acquire(True, timeout)\nKeyboardInterrupt\n\nDuring handling of the above exception, another exception occurred:\n\nTraceback (most recent call last):\n  File \"/usr/local/lib/python3.7/site-packages/IPython/core/interactiveshell.py\", line 3291, in run_code\n    exec(code_obj, self.user_global_ns, self.user_ns)\n  File \"<ipython-input-7-045bbfcc8539>\", line 1, in <module>\n    file_vals.compute()\n  File \"/usr/local/lib/python3.7/site-packages/dask/base.py\", line 165, in compute\n    (result,) = compute(self, traverse=False, **kwargs)\n  File \"/usr/local/lib/python3.7/site-packages/dask/base.py\", line 436, in compute\n    results = schedule(dsk, keys, **kwargs)\n  File \"/usr/local/lib/python3.7/site-packages/distributed/client.py\", line 2575, in get\n    f.release()\n  File \"/usr/local/lib/python3.7/site-packages/distributed/client.py\", line 357, in release\n    self.client.loop.add_callback(self.client._dec_ref, tokey(self.key))\n  File \"/usr/local/lib/python3.7/site-packages/tornado/platform/asyncio.py\", line 154, in add_callback\n    functools.partial(stack_context.wrap(callback), *args, **kwargs))\n  File \"/usr/local/Cellar/python/3.7.2_2/Frameworks/Python.framework/Versions/3.7/lib/python3.7/asyncio/base_events.py\", line 739, in call_soon_threadsafe\n    self._write_to_self()\n  File \"/usr/local/Cellar/python/3.7.2_2/Frameworks/Python.framework/Versions/3.7/lib/python3.7/asyncio/selector_events.py\", line 132, in _write_to_self\n    csock.send(b'\\0')\nKeyboardInterrupt\n\nDuring handling of the above exception, another exception occurred:\n\nTraceback (most recent call last):\n  File \"/usr/local/lib/python3.7/site-packages/IPython/core/interactiveshell.py\", line 2033, in showtraceback\n    stb = value._render_traceback_()\nAttributeError: 'KeyboardInterrupt' object has no attribute '_render_traceback_'\n\nDuring handling of the above exception, another exception occurred:\n\nTraceback (most recent call last):\n  File \"/usr/local/lib/python3.7/site-packages/IPython/core/ultratb.py\", line 1095, in get_records\n    return _fixed_getinnerframes(etb, number_of_lines_of_context, tb_offset)\n  File \"/usr/local/lib/python3.7/site-packages/IPython/core/ultratb.py\", line 313, in wrapped\n    return f(*args, **kwargs)\n  File \"/usr/local/lib/python3.7/site-packages/IPython/core/ultratb.py\", line 347, in _fixed_getinnerframes\n    records = fix_frame_records_filenames(inspect.getinnerframes(etb, context))\n  File \"/usr/local/Cellar/python/3.7.2_2/Frameworks/Python.framework/Versions/3.7/lib/python3.7/inspect.py\", line 1502, in getinnerframes\n    frameinfo = (tb.tb_frame,) + getframeinfo(tb, context)\n  File \"/usr/local/Cellar/python/3.7.2_2/Frameworks/Python.framework/Versions/3.7/lib/python3.7/inspect.py\", line 1460, in getframeinfo\n    filename = getsourcefile(frame) or getfile(frame)\n  File \"/usr/local/Cellar/python/3.7.2_2/Frameworks/Python.framework/Versions/3.7/lib/python3.7/inspect.py\", line 696, in getsourcefile\n    if getattr(getmodule(object, filename), '__loader__', None) is not None:\n  File \"/usr/local/Cellar/python/3.7.2_2/Frameworks/Python.framework/Versions/3.7/lib/python3.7/inspect.py\", line 742, in getmodule\n    os.path.realpath(f)] = module.__name__\n  File \"/usr/local/Cellar/python/3.7.2_2/Frameworks/Python.framework/Versions/3.7/lib/python3.7/posixpath.py\", line 395, in realpath\n    path, ok = _joinrealpath(filename[:0], filename, {})\n  File \"/usr/local/Cellar/python/3.7.2_2/Frameworks/Python.framework/Versions/3.7/lib/python3.7/posixpath.py\", line 429, in _joinrealpath\n    if not islink(newpath):\n  File \"/usr/local/Cellar/python/3.7.2_2/Frameworks/Python.framework/Versions/3.7/lib/python3.7/posixpath.py\", line 171, in islink\n    st = os.lstat(path)\nKeyboardInterrupt\n\nDuring handling of the above exception, another exception occurred:\n\nTraceback (most recent call last):\n  File \"/usr/local/lib/python3.7/site-packages/IPython/core/interactiveshell.py\", line 2036, in showtraceback\n    value, tb, tb_offset=tb_offset)\n  File \"/usr/local/lib/python3.7/site-packages/IPython/core/ultratb.py\", line 1379, in structured_traceback\n    self, etype, value, tb, tb_offset, number_of_lines_of_context)\n  File \"/usr/local/lib/python3.7/site-packages/IPython/core/ultratb.py\", line 1282, in structured_traceback\n    self, etype, value, tb, tb_offset, number_of_lines_of_context\n  File \"/usr/local/lib/python3.7/site-packages/IPython/core/ultratb.py\", line 1133, in structured_traceback\n    tb_offset)\n  File \"/usr/local/lib/python3.7/site-packages/IPython/core/ultratb.py\", line 1071, in format_exception_as_a_whole\n    records = self.get_records(etb, number_of_lines_of_context, tb_offset)\n  File \"/usr/local/lib/python3.7/site-packages/IPython/core/ultratb.py\", line 1110, in get_records\n    traceback.print_exc(file=self.ostream)\n  File \"/usr/local/Cellar/python/3.7.2_2/Frameworks/Python.framework/Versions/3.7/lib/python3.7/traceback.py\", line 163, in print_exc\n    print_exception(*sys.exc_info(), limit=limit, file=file, chain=chain)\n  File \"/usr/local/Cellar/python/3.7.2_2/Frameworks/Python.framework/Versions/3.7/lib/python3.7/traceback.py\", line 104, in print_exception\n    type(value), value, tb, limit=limit).format(chain=chain):\n  File \"/usr/local/Cellar/python/3.7.2_2/Frameworks/Python.framework/Versions/3.7/lib/python3.7/traceback.py\", line 508, in __init__\n    capture_locals=capture_locals)\n  File \"/usr/local/Cellar/python/3.7.2_2/Frameworks/Python.framework/Versions/3.7/lib/python3.7/traceback.py\", line 363, in extract\n    f.line\n  File \"/usr/local/Cellar/python/3.7.2_2/Frameworks/Python.framework/Versions/3.7/lib/python3.7/traceback.py\", line 285, in line\n    self._line = linecache.getline(self.filename, self.lineno).strip()\n  File \"/usr/local/Cellar/python/3.7.2_2/Frameworks/Python.framework/Versions/3.7/lib/python3.7/linecache.py\", line 16, in getline\n    lines = getlines(filename, module_globals)\n  File \"/usr/local/Cellar/python/3.7.2_2/Frameworks/Python.framework/Versions/3.7/lib/python3.7/linecache.py\", line 47, in getlines\n    return updatecache(filename, module_globals)\n  File \"/usr/local/Cellar/python/3.7.2_2/Frameworks/Python.framework/Versions/3.7/lib/python3.7/linecache.py\", line 136, in updatecache\n    with tokenize.open(fullname) as fp:\n  File \"/usr/local/Cellar/python/3.7.2_2/Frameworks/Python.framework/Versions/3.7/lib/python3.7/tokenize.py\", line 449, in open\n    encoding, lines = detect_encoding(buffer.readline)\n  File \"/usr/local/Cellar/python/3.7.2_2/Frameworks/Python.framework/Versions/3.7/lib/python3.7/tokenize.py\", line 418, in detect_encoding\n    first = read_or_stop()\n  File \"/usr/local/Cellar/python/3.7.2_2/Frameworks/Python.framework/Versions/3.7/lib/python3.7/tokenize.py\", line 376, in read_or_stop\n    return readline()\nKeyboardInterrupt\n\nDuring handling of the above exception, another exception occurred:\n\nTraceback (most recent call last):\n  File \"/usr/local/lib/python3.7/site-packages/IPython/core/interactiveshell.py\", line 3215, in run_ast_nodes\n    if (yield from self.run_code(code, result)):\n  File \"/usr/local/lib/python3.7/site-packages/IPython/core/interactiveshell.py\", line 3308, in run_code\n    self.showtraceback(running_compiled_code=True)\n  File \"/usr/local/lib/python3.7/site-packages/IPython/core/interactiveshell.py\", line 2048, in showtraceback\n    print('\\n' + self.get_exception_only(), file=sys.stderr)\n  File \"/usr/local/lib/python3.7/site-packages/IPython/core/interactiveshell.py\", line 1993, in get_exception_only\n    msg = traceback.format_exception_only(etype, value)\n  File \"/usr/local/Cellar/python/3.7.2_2/Frameworks/Python.framework/Versions/3.7/lib/python3.7/traceback.py\", line 140, in format_exception_only\n    return list(TracebackException(etype, value, None).format_exception_only())\n  File \"/usr/local/Cellar/python/3.7.2_2/Frameworks/Python.framework/Versions/3.7/lib/python3.7/traceback.py\", line 497, in __init__\n    _seen=_seen)\n  File \"/usr/local/Cellar/python/3.7.2_2/Frameworks/Python.framework/Versions/3.7/lib/python3.7/traceback.py\", line 497, in __init__\n    _seen=_seen)\n  File \"/usr/local/Cellar/python/3.7.2_2/Frameworks/Python.framework/Versions/3.7/lib/python3.7/traceback.py\", line 497, in __init__\n    _seen=_seen)\n  [Previous line repeated 1 more time]\n  File \"/usr/local/Cellar/python/3.7.2_2/Frameworks/Python.framework/Versions/3.7/lib/python3.7/traceback.py\", line 508, in __init__\n    capture_locals=capture_locals)\n  File \"/usr/local/Cellar/python/3.7.2_2/Frameworks/Python.framework/Versions/3.7/lib/python3.7/traceback.py\", line 359, in extract\n    linecache.checkcache(filename)\n  File \"/usr/local/lib/python3.7/site-packages/IPython/core/compilerop.py\", line 141, in check_linecache_ipython\n    linecache._checkcache_ori(*args)\n  File \"/usr/local/Cellar/python/3.7.2_2/Frameworks/Python.framework/Versions/3.7/lib/python3.7/linecache.py\", line 74, in checkcache\n    stat = os.stat(fullname)\nKeyboardInterrupt\n\nDuring handling of the above exception, another exception occurred:\n\nTraceback (most recent call last):\n  File \"/usr/local/lib/python3.7/site-packages/IPython/core/interactiveshell.py\", line 2033, in showtraceback\n    stb = value._render_traceback_()\nAttributeError: 'KeyboardInterrupt' object has no attribute '_render_traceback_'\n\nDuring handling of the above exception, another exception occurred:\n\nTraceback (most recent call last):\n  File \"/usr/local/lib/python3.7/site-packages/IPython/core/ultratb.py\", line 1095, in get_records\n    return _fixed_getinnerframes(etb, number_of_lines_of_context, tb_offset)\n  File \"/usr/local/lib/python3.7/site-packages/IPython/core/ultratb.py\", line 313, in wrapped\n    return f(*args, **kwargs)\n  File \"/usr/local/lib/python3.7/site-packages/IPython/core/ultratb.py\", line 347, in _fixed_getinnerframes\n    records = fix_frame_records_filenames(inspect.getinnerframes(etb, context))\n  File \"/usr/local/Cellar/python/3.7.2_2/Frameworks/Python.framework/Versions/3.7/lib/python3.7/inspect.py\", line 1502, in getinnerframes\n    frameinfo = (tb.tb_frame,) + getframeinfo(tb, context)\n  File \"/usr/local/Cellar/python/3.7.2_2/Frameworks/Python.framework/Versions/3.7/lib/python3.7/inspect.py\", line 1464, in getframeinfo\n    lines, lnum = findsource(frame)\n  File \"/usr/local/lib/python3.7/site-packages/IPython/core/ultratb.py\", line 179, in findsource\n    lines = linecache.getlines(file, globals_dict)\n  File \"/usr/local/Cellar/python/3.7.2_2/Frameworks/Python.framework/Versions/3.7/lib/python3.7/linecache.py\", line 47, in getlines\n    return updatecache(filename, module_globals)\n  File \"/usr/local/Cellar/python/3.7.2_2/Frameworks/Python.framework/Versions/3.7/lib/python3.7/linecache.py\", line 95, in updatecache\n    stat = os.stat(fullname)\nKeyboardInterrupt\n\nDuring handling of the above exception, another exception occurred:\n\nTraceback (most recent call last):\n  File \"/usr/local/lib/python3.7/site-packages/IPython/core/interactiveshell.py\", line 2036, in showtraceback\n    value, tb, tb_offset=tb_offset)\n  File \"/usr/local/lib/python3.7/site-packages/IPython/core/ultratb.py\", line 1379, in structured_traceback\n    self, etype, value, tb, tb_offset, number_of_lines_of_context)\n  File \"/usr/local/lib/python3.7/site-packages/IPython/core/ultratb.py\", line 1282, in structured_traceback\n    self, etype, value, tb, tb_offset, number_of_lines_of_context\n  File \"/usr/local/lib/python3.7/site-packages/IPython/core/ultratb.py\", line 1133, in structured_traceback\n    tb_offset)\n  File \"/usr/local/lib/python3.7/site-packages/IPython/core/ultratb.py\", line 1071, in format_exception_as_a_whole\n    records = self.get_records(etb, number_of_lines_of_context, tb_offset)\n  File \"/usr/local/lib/python3.7/site-packages/IPython/core/ultratb.py\", line 1109, in get_records\n    inspect_error()\n  File \"/usr/local/lib/python3.7/site-packages/IPython/core/ultratb.py\", line 149, in inspect_error\n    error('Internal Python error in the inspect module.\\n'\n  File \"/usr/local/Cellar/python/3.7.2_2/Frameworks/Python.framework/Versions/3.7/lib/python3.7/logging/__init__.py\", line 1961, in error\n    root.error(msg, *args, **kwargs)\n  File \"/usr/local/Cellar/python/3.7.2_2/Frameworks/Python.framework/Versions/3.7/lib/python3.7/logging/__init__.py\", line 1412, in error\n    self._log(ERROR, msg, args, **kwargs)\n  File \"/usr/local/Cellar/python/3.7.2_2/Frameworks/Python.framework/Versions/3.7/lib/python3.7/logging/__init__.py\", line 1519, in _log\n    self.handle(record)\n  File \"/usr/local/Cellar/python/3.7.2_2/Frameworks/Python.framework/Versions/3.7/lib/python3.7/logging/__init__.py\", line 1529, in handle\n    self.callHandlers(record)\n  File \"/usr/local/Cellar/python/3.7.2_2/Frameworks/Python.framework/Versions/3.7/lib/python3.7/logging/__init__.py\", line 1591, in callHandlers\n    hdlr.handle(record)\n  File \"/usr/local/Cellar/python/3.7.2_2/Frameworks/Python.framework/Versions/3.7/lib/python3.7/logging/__init__.py\", line 905, in handle\n    self.emit(record)\n  File \"/usr/local/Cellar/python/3.7.2_2/Frameworks/Python.framework/Versions/3.7/lib/python3.7/logging/__init__.py\", line 1038, in emit\n    self.flush()\n  File \"/usr/local/Cellar/python/3.7.2_2/Frameworks/Python.framework/Versions/3.7/lib/python3.7/logging/__init__.py\", line 1018, in flush\n    self.stream.flush()\n  File \"/usr/local/lib/python3.7/site-packages/ipykernel/iostream.py\", line 349, in flush\n    if not evt.wait(self.flush_timeout):\n  File \"/usr/local/Cellar/python/3.7.2_2/Frameworks/Python.framework/Versions/3.7/lib/python3.7/threading.py\", line 552, in wait\n    signaled = self._cond.wait(timeout)\n  File \"/usr/local/Cellar/python/3.7.2_2/Frameworks/Python.framework/Versions/3.7/lib/python3.7/threading.py\", line 300, in wait\n    gotit = waiter.acquire(True, timeout)\nKeyboardInterrupt\n\nDuring handling of the above exception, another exception occurred:\n\nTraceback (most recent call last):\n  File \"/usr/local/lib/python3.7/site-packages/IPython/core/interactiveshell.py\", line 2869, in _run_cell\n    return runner(coro)\n  File \"/usr/local/lib/python3.7/site-packages/IPython/core/async_helpers.py\", line 67, in _pseudo_sync_runner\n    coro.send(None)\n  File \"/usr/local/lib/python3.7/site-packages/IPython/core/interactiveshell.py\", line 3044, in run_cell_async\n    interactivity=interactivity, compiler=compiler, result=result)\n  File \"/usr/local/lib/python3.7/site-packages/IPython/core/interactiveshell.py\", line 3234, in run_ast_nodes\n    self.showtraceback()\n  File \"/usr/local/lib/python3.7/site-packages/IPython/core/interactiveshell.py\", line 2048, in showtraceback\n    print('\\n' + self.get_exception_only(), file=sys.stderr)\n  File \"/usr/local/lib/python3.7/site-packages/IPython/core/interactiveshell.py\", line 1993, in get_exception_only\n    msg = traceback.format_exception_only(etype, value)\n  File \"/usr/local/Cellar/python/3.7.2_2/Frameworks/Python.framework/Versions/3.7/lib/python3.7/traceback.py\", line 140, in format_exception_only\n    return list(TracebackException(etype, value, None).format_exception_only())\n  File \"/usr/local/Cellar/python/3.7.2_2/Frameworks/Python.framework/Versions/3.7/lib/python3.7/traceback.py\", line 497, in __init__\n    _seen=_seen)\n  File \"/usr/local/Cellar/python/3.7.2_2/Frameworks/Python.framework/Versions/3.7/lib/python3.7/traceback.py\", line 497, in __init__\n    _seen=_seen)\n  File \"/usr/local/Cellar/python/3.7.2_2/Frameworks/Python.framework/Versions/3.7/lib/python3.7/traceback.py\", line 497, in __init__\n    _seen=_seen)\n  [Previous line repeated 5 more times]\n  File \"/usr/local/Cellar/python/3.7.2_2/Frameworks/Python.framework/Versions/3.7/lib/python3.7/traceback.py\", line 508, in __init__\n    capture_locals=capture_locals)\n  File \"/usr/local/Cellar/python/3.7.2_2/Frameworks/Python.framework/Versions/3.7/lib/python3.7/traceback.py\", line 359, in extract\n    linecache.checkcache(filename)\n  File \"/usr/local/lib/python3.7/site-packages/IPython/core/compilerop.py\", line 141, in check_linecache_ipython\n    linecache._checkcache_ori(*args)\n  File \"/usr/local/Cellar/python/3.7.2_2/Frameworks/Python.framework/Versions/3.7/lib/python3.7/linecache.py\", line 74, in checkcache\n    stat = os.stat(fullname)\nKeyboardInterrupt\n\nDuring handling of the above exception, another exception occurred:\n\nTraceback (most recent call last):\n  File \"/usr/local/lib/python3.7/site-packages/IPython/core/interactiveshell.py\", line 2033, in showtraceback\n    stb = value._render_traceback_()\nAttributeError: 'KeyboardInterrupt' object has no attribute '_render_traceback_'\n\nDuring handling of the above exception, another exception occurred:\n\nTraceback (most recent call last):\n  File \"/usr/local/lib/python3.7/site-packages/IPython/core/ultratb.py\", line 1095, in get_records\n    return _fixed_getinnerframes(etb, number_of_lines_of_context, tb_offset)\n  File \"/usr/local/lib/python3.7/site-packages/IPython/core/ultratb.py\", line 313, in wrapped\n    return f(*args, **kwargs)\n  File \"/usr/local/lib/python3.7/site-packages/IPython/core/ultratb.py\", line 347, in _fixed_getinnerframes\n    records = fix_frame_records_filenames(inspect.getinnerframes(etb, context))\n  File \"/usr/local/Cellar/python/3.7.2_2/Frameworks/Python.framework/Versions/3.7/lib/python3.7/inspect.py\", line 1502, in getinnerframes\n    frameinfo = (tb.tb_frame,) + getframeinfo(tb, context)\n  File \"/usr/local/Cellar/python/3.7.2_2/Frameworks/Python.framework/Versions/3.7/lib/python3.7/inspect.py\", line 1464, in getframeinfo\n    lines, lnum = findsource(frame)\n  File \"/usr/local/lib/python3.7/site-packages/IPython/core/ultratb.py\", line 167, in findsource\n    file = getsourcefile(object) or getfile(object)\n  File \"/usr/local/Cellar/python/3.7.2_2/Frameworks/Python.framework/Versions/3.7/lib/python3.7/inspect.py\", line 693, in getsourcefile\n    if os.path.exists(filename):\n  File \"/usr/local/Cellar/python/3.7.2_2/Frameworks/Python.framework/Versions/3.7/lib/python3.7/genericpath.py\", line 19, in exists\n    os.stat(path)\nKeyboardInterrupt\n"
    }
   ],
   "source": []
  }
 ],
 "metadata": {
  "kernelspec": {
   "display_name": "Python 3",
   "language": "python",
   "name": "python3"
  },
  "language_info": {
   "codemirror_mode": {
    "name": "ipython",
    "version": 2
   },
   "file_extension": ".py",
   "mimetype": "text/x-python",
   "name": "python",
   "nbconvert_exporter": "python",
   "pygments_lexer": "ipython2",
   "version": "3.7.2"
  },
  "pycharm": {
   "stem_cell": {
    "cell_type": "raw",
    "source": [],
    "metadata": {
     "collapsed": false
    }
   }
  }
 },
 "nbformat": 4,
 "nbformat_minor": 0
}