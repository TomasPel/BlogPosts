{
 "nbformat": 4,
 "nbformat_minor": 2,
 "metadata": {
  "language_info": {
   "name": "python",
   "codemirror_mode": {
    "name": "ipython",
    "version": 3
   },
   "version": "3.7.5"
  },
  "orig_nbformat": 2,
  "file_extension": ".py",
  "mimetype": "text/x-python",
  "name": "python",
  "npconvert_exporter": "python",
  "pygments_lexer": "ipython3",
  "version": 3
 },
 "cells": [
  {
   "cell_type": "code",
   "execution_count": 1,
   "metadata": {},
   "outputs": [],
   "source": [
    "import pandas as pd\n",
    "import swifter\n",
    "from multiprocessing import Pool\n",
    "\n",
    "def function_to_apply(pandas):\n",
    "    pandas[\"cost\"] = pandas.apply(lambda x : x[\"Resource Quantity\"]*x[\"Resource Unit Price\"],axis=1, result_type='reduce')\n",
    "    return pandas\n",
    "\n",
    "def pandas_paralel_apply(full_df, num_proc, func):\n",
    "    list_of_dfs = [full_df[full_df.index % num_proc==i] for i in range(0,num_proc)]\n",
    "    with Pool(num_proc) as executor:\n",
    "        df_new = pd.concat(executor.map(func, list_of_dfs))\n",
    "    return df_new\n",
    "\n",
    "def function_to_apply_big(pandas):\n",
    "    pandas[\"cost\"] = pandas.apply(lambda x : x[\"Project Cost\"]*x[\"Project Cost\"],axis=1, result_type='reduce')\n",
    "    return pandas\n"
   ]
  },
  {
   "cell_type": "code",
   "execution_count": 2,
   "metadata": {},
   "outputs": [],
   "source": [
    "def function_to_apply_row(x, y):\n",
    "    return x*y\n",
    "\n",
    "def function_to_apply_row_v1(x):\n",
    "    return len(str(x).split(' '))\n",
    "    "
   ]
  },
  {
   "cell_type": "code",
   "execution_count": 29,
   "metadata": {},
   "outputs": [
    {
     "name": "stdout",
     "output_type": "stream",
     "text": "8.15 s ± 122 ms per loop (mean ± std. dev. of 7 runs, 1 loop each)\n"
    }
   ],
   "source": [
    "%timeit -n10 df = pd.read_csv('./data/Resources.csv', header=0, sep=',')\n",
    "#8.15 s ± 122 ms per loop (mean ± std. dev. of 7 runs, 1 loop each)"
   ]
  },
  {
   "cell_type": "code",
   "execution_count": 16,
   "metadata": {},
   "outputs": [],
   "source": [
    "df = pd.read_csv('./data/Resources.csv', header=0, sep=',')"
   ]
  },
  {
   "cell_type": "code",
   "execution_count": 9,
   "metadata": {},
   "outputs": [
    {
     "name": "stdout",
     "output_type": "stream",
     "text": "39.2 s ± 788 ms per loop (mean ± std. dev. of 7 runs, 1 loop each)\n"
    }
   ],
   "source": [
    "%timeit -n1 -r7 df.to_csv('./output/output.csv')\n",
    "#39.2 s ± 788 ms per loop (mean ± std. dev. of 7 runs, 1 loop each)"
   ]
  },
  {
   "cell_type": "code",
   "execution_count": 10,
   "metadata": {},
   "outputs": [
    {
     "name": "stdout",
     "output_type": "stream",
     "text": "36.4 ms ± 7.19 ms per loop (mean ± std. dev. of 7 runs, 1 loop each)\n2min 10s ± 766 ms per loop (mean ± std. dev. of 7 runs, 1 loop each)\n2min 10s ± 1.2 s per loop (mean ± std. dev. of 7 runs, 1 loop each)\n"
    }
   ],
   "source": [
    "#Regular Pandas\n",
    "%timeit -n1 -r7 df[\"cost\"] = df[\"Resource Quantity\"]*df[\"Resource Unit Price\"]\n",
    "#36.4 ms ± 7.19 ms per loop (mean ± std. dev. of 7 runs, 1 loop each)\n",
    "%timeit -n1 -r7 df[\"cost\"] = df.apply(lambda x : x[\"Resource Quantity\"]*x[\"Resource Unit Price\"], axis=1)\n",
    "#2min 10s ± 766 ms per loop (mean ± std. dev. of 7 runs, 1 loop each)\n",
    "\n",
    "%timeit -n1 -r7 df[\"cost\"] = df.apply(lambda x : function_to_apply_row(x[\"Resource Quantity\"], x[\"Resource Unit Price\"]), axis=1)\n",
    "#2min 10s ± 1.2 s per loop (mean ± std. dev. of 7 runs, 1 loop each)"
   ]
  },
  {
   "cell_type": "code",
   "execution_count": 11,
   "metadata": {},
   "outputs": [
    {
     "name": "stdout",
     "output_type": "stream",
     "text": "40.5 ms ± 1.57 ms per loop (mean ± std. dev. of 7 runs, 1 loop each)\n40 ms ± 708 µs per loop (mean ± std. dev. of 7 runs, 1 loop each)\n"
    }
   ],
   "source": [
    "#Swifter\n",
    "%timeit -n1 -r7 df[\"cost\"] = df.swifter.apply(lambda x : x[\"Resource Quantity\"]*x[\"Resource Unit Price\"], axis=1)\n",
    "#40.5 ms ± 1.57 ms per loop (mean ± std. dev. of 7 runs, 1 loop each)\n",
    "%timeit -n1 -r7 df[\"cost\"] = df.swifter.apply(lambda x : function_to_apply_row(x[\"Resource Quantity\"], x[\"Resource Unit Price\"]), axis=1)\n",
    "#40 ms ± 708 µs per loop (mean ± std. dev. of 7 runs, 1 loop each)"
   ]
  },
  {
   "cell_type": "code",
   "execution_count": 17,
   "metadata": {},
   "outputs": [
    {
     "name": "stdout",
     "output_type": "stream",
     "text": "46.9 s ± 1.2 s per loop (mean ± std. dev. of 7 runs, 1 loop each)\n"
    }
   ],
   "source": [
    "#Multiprocessing\n",
    "%timeit -n1 -r7 pandas_paralel_apply(df.copy(), 10, function_to_apply)\n",
    "#46.9 s ± 1.2 s per loop (mean ± std. dev. of 7 runs, 1 loop each)"
   ]
  },
  {
   "cell_type": "code",
   "execution_count": 18,
   "metadata": {},
   "outputs": [
    {
     "name": "stdout",
     "output_type": "stream",
     "text": "429 ms ± 6.29 ms per loop (mean ± std. dev. of 7 runs, 1 loop each)\n3.36 s ± 18.9 ms per loop (mean ± std. dev. of 7 runs, 1 loop each)\n"
    }
   ],
   "source": [
    "%timeit -n1 -r7 agg_df = df.groupby(\"Resource Vendor Name\").agg({\"Resource Quantity\" : 'mean'})\n",
    "#429 ms ± 6.29 ms per loop (mean ± std. dev. of 7 runs, 1 loop each)\n",
    "%timeit -n1 -r7 agg_df = df.fillna('0')\n",
    "#3.36 s ± 18.9 ms per loop (mean ± std. dev. of 7 runs, 1 loop each)"
   ]
  },
  {
   "cell_type": "code",
   "execution_count": 19,
   "metadata": {},
   "outputs": [
    {
     "ename": "NameError",
     "evalue": "name 'agg_df' is not defined",
     "output_type": "error",
     "traceback": [
      "\u001b[0;31m---------------------------------------------------------------------------\u001b[0m",
      "\u001b[0;31mNameError\u001b[0m                                 Traceback (most recent call last)",
      "\u001b[0;32m<ipython-input-19-64d8d16fa6d8>\u001b[0m in \u001b[0;36m<module>\u001b[0;34m\u001b[0m\n\u001b[0;32m----> 1\u001b[0;31m \u001b[0;32mdel\u001b[0m \u001b[0mdf\u001b[0m\u001b[0;34m,\u001b[0m \u001b[0magg_df\u001b[0m\u001b[0;34m\u001b[0m\u001b[0;34m\u001b[0m\u001b[0m\n\u001b[0m",
      "\u001b[0;31mNameError\u001b[0m: name 'agg_df' is not defined"
     ]
    }
   ],
   "source": [
    "del df"
   ]
  },
  {
   "cell_type": "code",
   "execution_count": 18,
   "metadata": {},
   "outputs": [
    {
     "name": "stdout",
     "output_type": "stream",
     "text": "31 s ± 75.5 ms per loop (mean ± std. dev. of 7 runs, 1 loop each)\n"
    }
   ],
   "source": [
    "%timeit -n1 -r7 df = pd.read_csv('./data/resources_v2.csv', header=0, sep=',')\n",
    "#31 s ± 75.5 ms per loop (mean ± std. dev. of 7 runs, 1 loop each)"
   ]
  },
  {
   "cell_type": "code",
   "execution_count": 3,
   "metadata": {},
   "outputs": [],
   "source": [
    "df = pd.read_csv('./data/resources_v2.csv', header=0, sep=',')"
   ]
  },
  {
   "cell_type": "code",
   "execution_count": 20,
   "metadata": {},
   "outputs": [
    {
     "name": "stdout",
     "output_type": "stream",
     "text": "2min 41s ± 2.66 s per loop (mean ± std. dev. of 7 runs, 1 loop each)\n"
    }
   ],
   "source": [
    "%timeit -n1 -r7 df.to_csv('./output/output.csv')\n",
    "#2min 41s ± 2.66 s per loop (mean ± std. dev. of 7 runs, 1 loop each)"
   ]
  },
  {
   "cell_type": "code",
   "execution_count": 21,
   "metadata": {},
   "outputs": [
    {
     "name": "stdout",
     "output_type": "stream",
     "text": "288 ms ± 12.1 ms per loop (mean ± std. dev. of 7 runs, 1 loop each)\n8min 18s ± 9.3 s per loop (mean ± std. dev. of 7 runs, 1 loop each)\n8min 14s ± 1.25 s per loop (mean ± std. dev. of 7 runs, 1 loop each)\n"
    }
   ],
   "source": [
    "#Regular Pandas\n",
    "%timeit -n1 -r7 df[\"cost\"] = df[\"Resource Quantity\"]*df[\"Resource Unit Price\"]\n",
    "#288 ms ± 12.1 ms per loop (mean ± std. dev. of 7 runs, 1 loop each)\n",
    "%timeit -n1 -r7 df[\"cost\"] = df.apply(lambda x : x[\"Resource Quantity\"]*x[\"Resource Unit Price\"], axis=1)\n",
    "#8min 18s ± 9.3 s per loop (mean ± std. dev. of 7 runs, 1 loop each)\n",
    "%timeit -n1 -r7 df[\"cost\"] = df.apply(lambda x : function_to_apply_row(x[\"Resource Quantity\"], x[\"Resource Unit Price\"]), axis=1)\n",
    "#8min 14s ± 1.25 s per loop (mean ± std. dev. of 7 runs, 1 loop each)"
   ]
  },
  {
   "cell_type": "code",
   "execution_count": 22,
   "metadata": {},
   "outputs": [
    {
     "name": "stdout",
     "output_type": "stream",
     "text": "272 ms ± 6.25 ms per loop (mean ± std. dev. of 7 runs, 1 loop each)\n274 ms ± 2.52 ms per loop (mean ± std. dev. of 7 runs, 1 loop each)\n"
    }
   ],
   "source": [
    "#Swifter\n",
    "%timeit -n1 -r7 df[\"cost\"] = df.swifter.apply(lambda x : x[\"Resource Quantity\"]*x[\"Resource Unit Price\"], axis=1)\n",
    "#272 ms ± 6.25 ms per loop (mean ± std. dev. of 7 runs, 1 loop each)\n",
    "%timeit -n1 -r7 df[\"cost\"] = df.swifter.apply(lambda x : function_to_apply_row(x[\"Resource Quantity\"], x[\"Resource Unit Price\"]), axis=1)\n",
    "#274 ms ± 2.52 ms per loop (mean ± std. dev. of 7 runs, 1 loop each)"
   ]
  },
  {
   "cell_type": "code",
   "execution_count": 4,
   "metadata": {},
   "outputs": [
    {
     "name": "stdout",
     "output_type": "stream",
     "text": "1.9 s ± 20 ms per loop (mean ± std. dev. of 7 runs, 1 loop each)\n14.5 s ± 626 ms per loop (mean ± std. dev. of 7 runs, 1 loop each)\n"
    }
   ],
   "source": [
    "%timeit -n1 -r7 agg_df = df.groupby(\"Resource Vendor Name\").agg({\"Resource Quantity\" : 'mean'})\n",
    "\n",
    "%timeit -n1 -r7 agg_df = df.fillna('0')"
   ]
  },
  {
   "cell_type": "code",
   "execution_count": 5,
   "metadata": {},
   "outputs": [
    {
     "name": "stdout",
     "output_type": "stream",
     "text": "3min 29s ± 5.57 s per loop (mean ± std. dev. of 7 runs, 1 loop each)\n"
    }
   ],
   "source": [
    "#Multiprocessing\n",
    "%timeit -n1 -r7 pandas_paralel_apply(df.copy(), 10, function_to_apply)"
   ]
  },
  {
   "cell_type": "code",
   "execution_count": 0,
   "metadata": {},
   "outputs": [],
   "source": [
    "del df"
   ]
  },
  {
   "cell_type": "code",
   "execution_count": null,
   "metadata": {},
   "outputs": [],
   "source": []
  }
 ]
}